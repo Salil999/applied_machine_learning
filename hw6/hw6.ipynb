{
 "cells": [
  {
   "cell_type": "code",
   "execution_count": 1,
   "metadata": {
    "collapsed": false
   },
   "outputs": [],
   "source": [
    "import numpy as np\n",
    "import scipy\n",
    "import scipy.ndimage as nd\n",
    "from PIL import Image\n",
    "import math"
   ]
  },
  {
   "cell_type": "code",
   "execution_count": 2,
   "metadata": {
    "collapsed": false
   },
   "outputs": [],
   "source": [
    "# read in 3 images as numpy arrays\n",
    "img1 = Image.open('img01.jpg')\n",
    "img1 = np.asarray(img1, dtype=np.int64)\n",
    "img1 = np.transpose(img1, (1,0,2))\n",
    "\n",
    "img2 = Image.open('img02.jpg')\n",
    "img2 = np.asarray(img2, dtype=np.int64)\n",
    "img2 = np.transpose(img2, (1,0,2))\n",
    "\n",
    "img3 = Image.open('img03.jpg')\n",
    "img3 = np.asarray(img3, dtype=np.int64)\n",
    "img3 = np.transpose(img3, (1,0,2))"
   ]
  },
  {
   "cell_type": "code",
   "execution_count": 4,
   "metadata": {
    "collapsed": true
   },
   "outputs": [],
   "source": [
    "# Helper function which declares an array that will keep track of the probabilities of an pixel belonging to \n",
    "# a particular cluster.\n",
    "def gen_temp_arrays(arr, num):\n",
    "    arr1 = np.zeros((len(arr), len(arr[0]), num))\n",
    "    return arr1"
   ]
  },
  {
   "cell_type": "code",
   "execution_count": 5,
   "metadata": {
    "collapsed": false
   },
   "outputs": [],
   "source": [
    "def find_wij(pixel, means, probs, cur_mean, num_means, temp_probs, i, j):\n",
    "    '''\n",
    "    Computes the W_ij term (essentially the probabilities for a pixel to belong to a particular blob).\n",
    "    @param pixel: The current pixel for which we are computing the probabilities (the X_i).\n",
    "    @param means: The current array of means for the j clusters.\n",
    "    @param probs: The current array of proportions for the j clusters.\n",
    "    @param cur_mean: The current mean index we are computing for (The u_j).\n",
    "    @param num_means: The total number of means, which is equivilant to the total number of clusters.\n",
    "    '''\n",
    "    \n",
    "    # First we need to compute the values of the values in the exponent.\n",
    "    val = np.zeros((num_means, ))\n",
    "    \n",
    "    # For each of the clusters, we compute the inner value of the exponential.\n",
    "    for i in range(num_means):\n",
    "        val[i] = (-0.5*((pixel - means[i]).T @ ((pixel) -means[i])))\n",
    "\n",
    "    # Then shift each of the values by subtracting from the largest element in the list.\n",
    "    # This corrects for potential underflow or overflow issues.\n",
    "    val -= val.max(axis = 0)\n",
    "    \n",
    "    # Compute the numerator which is the exponential of the gaussian expression with the cur_mean multiplied by \n",
    "    # the probability of the current blob being expressed by the dataset.\n",
    "    numer = np.exp(val[cur_mean])*probs[cur_mean]\n",
    "    \n",
    "    # Now take the sum of the exponentials of the gaussian expression with each of the cluster means multiplied by\n",
    "    # the probability of the \"j_th\" blob being expressed by the dataset.\n",
    "    denom = 0\n",
    "    for i in range(num_means):\n",
    "        denom += np.exp(val[i])*probs[i]\n",
    "    \n",
    "    # Return the divison of each of these two numbers, which roughly expresses the probability of this pixel belonging to\n",
    "    # the blob.\n",
    "    wij = numer / denom\n",
    "    temp_probs[i][j][cur_mean] = wij\n",
    "    \n",
    "    return numer / denom"
   ]
  },
  {
   "cell_type": "code",
   "execution_count": 6,
   "metadata": {
    "collapsed": false
   },
   "outputs": [
    {
     "name": "stdout",
     "output_type": "stream",
     "text": [
      "[ 185.  231.  164.]\n",
      "0.0448814132488\n"
     ]
    }
   ],
   "source": [
    "def em_step(num_means, image):\n",
    "    '''\n",
    "    This function performs the iterative 'E' and 'M' step for the mixture of gaussians.\n",
    "    @param num_means: The number of segments(clusters) to use.\n",
    "    @param image: The image where the clustering will take place, represented as an numpy array.\n",
    "    '''\n",
    "    # Define a tolerance to which we know when to stop.\n",
    "    eps = 2\n",
    "    \n",
    "    # Construct an initialize and populate an array to hold the proportions for each of the clusters.\n",
    "    # In addition, initialize and populate an array to hold the means for each of the clusters.  \n",
    "    init_pi = np.full((num_means,), 1./num_means)\n",
    "    init_mean = np.zeros((num_means, 3))\n",
    "    num_pixels = len(image) * len(image[0])\n",
    "    # Set the initial mean vector to be randomly sampled pixels from the image.\n",
    "    for m in range(num_means):\n",
    "        rand_row = np.random.randint(0, len(image))\n",
    "        rand_col = np.random.randint(0, len(image[0]))\n",
    "        init_mean[m] = image[rand_row][rand_col]\n",
    "    \n",
    "    # Construct a vector that will hold the probabilities that a particular pixel belongs to a specific cluster.\n",
    "    temp_probs = gen_temp_arrays(image, num_means)\n",
    "    \n",
    "    # Iterate over each cluster. For each cluster compute the probability that a pixel belongs to a cluster.\n",
    "    # Use these probabilities to calculate a new approximation for both the mean and proportion of the cluster.\n",
    "    for i in range(len(100)):\n",
    "        for curMeanIndex in range(len(init_mean)):\n",
    "            numerator = np.zeros((3, ))\n",
    "            denomenator = 0\n",
    "            for i in range(len(image)):\n",
    "                for j in range(len(image[0])):\n",
    "                    # Compute the probability that this pixel is a member of this cluster.\n",
    "                    temp_pixel = image[i][j]\n",
    "                    wij = find_wij(temp_pixel, init_mean, init_pi, curMeanIndex, num_means, temp_probs, i, j)\n",
    "\n",
    "                    # Use this probability to compute the updated means and proportions for this dataset.\n",
    "                    numerator += temp_pixel * wij\n",
    "                    denomenator += wij\n",
    "\n",
    "\n",
    "            # Update the value of the mean for the particular 'blob'.\n",
    "            newMean = (numerator / denomenator).astype(np.int64)\n",
    "            newPop = (denomenator / num_pixels)\n",
    "\n",
    "            # If the difference is smaller than epsilon, then return and report the newMean, newPop, and temp_probs.\n",
    "            if (np.linalg.norm(newMean - init_mean[curMeanIndex]) < eps):\n",
    "                return newMean, newPop, temp_probs\n",
    "\n",
    "            # Otherwise update the estimate of the mean and proportion of the particular cluster.\n",
    "            init_mean[curMeanIndex] = newMean\n",
    "            init_pi[curMeanIndex] = newPop\n",
    "        \n",
    "    return init_mean, init_pi, temp_probs        \n"
   ]
  },
  {
   "cell_type": "markdown",
   "metadata": {},
   "source": [
    "First, we will segment the first image into 10, 20, and 50 segments."
   ]
  },
  {
   "cell_type": "code",
   "execution_count": null,
   "metadata": {
    "collapsed": false
   },
   "outputs": [],
   "source": [
    "clusters_1_10_mean, clusters_1_10_prop, clusters_1_10_probs = em_step(10, img1)"
   ]
  },
  {
   "cell_type": "code",
   "execution_count": null,
   "metadata": {
    "collapsed": false
   },
   "outputs": [],
   "source": [
    "# img1\n",
    "info1, info2, info3 = gen_temp_arrays(img1)\n"
   ]
  },
  {
   "cell_type": "code",
   "execution_count": null,
   "metadata": {
    "collapsed": true
   },
   "outputs": [],
   "source": []
  }
 ],
 "metadata": {
  "anaconda-cloud": {},
  "kernelspec": {
   "display_name": "Python 3",
   "language": "python",
   "name": "python3"
  },
  "language_info": {
   "codemirror_mode": {
    "name": "ipython",
    "version": 3
   },
   "file_extension": ".py",
   "mimetype": "text/x-python",
   "name": "python",
   "nbconvert_exporter": "python",
   "pygments_lexer": "ipython3",
   "version": "3.5.2"
  }
 },
 "nbformat": 4,
 "nbformat_minor": 2
}
