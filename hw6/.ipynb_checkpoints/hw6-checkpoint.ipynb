{
 "cells": [
  {
   "cell_type": "code",
   "execution_count": 2,
   "metadata": {
    "collapsed": false
   },
   "outputs": [],
   "source": [
    "import numpy as np\n",
    "import scipy\n",
    "import scipy.ndimage as nd\n",
    "from PIL import Image"
   ]
  },
  {
   "cell_type": "code",
   "execution_count": 3,
   "metadata": {
    "collapsed": false
   },
   "outputs": [],
   "source": [
    "# read in 3 images as numpy arrays\n",
    "img1 = Image.open('img01.jpg')\n",
    "img1 = np.asarray(img1, dtype=np.uint8)\n",
    "img1 = np.transpose(img1, (1,0,2))\n",
    "\n",
    "img2 = Image.open('img02.jpg')\n",
    "img2 = np.asarray(img2, dtype=np.uint8)\n",
    "img2 = np.transpose(img2, (1,0,2))\n",
    "\n",
    "img3 = Image.open('img03.jpg')\n",
    "img3 = np.asarray(img3, dtype=np.uint8)\n",
    "img3 = np.transpose(img3, (1,0,2))"
   ]
  },
  {
   "cell_type": "code",
   "execution_count": 4,
   "metadata": {
    "collapsed": true
   },
   "outputs": [],
   "source": [
    "eps = 0.01"
   ]
  },
  {
   "cell_type": "code",
   "execution_count": 5,
   "metadata": {
    "collapsed": true
   },
   "outputs": [],
   "source": [
    "def gen_temp_arrays(arr):\n",
    "    arr1 = np.zeros((len(arr), len(arr[0]), 10))\n",
    "    arr2 = np.zeros((len(arr), len(arr[0]), 20))\n",
    "    arr3 = np.zeros((len(arr), len(arr[0]), 50))\n",
    "    return (arr1, arr2, arr3)"
   ]
  },
  {
   "cell_type": "code",
   "execution_count": 29,
   "metadata": {
    "collapsed": false
   },
   "outputs": [],
   "source": [
    "# After reading\n",
    "def em_step(num_means, image):\n",
    "    init_pi = np.full((num_means,), 1./num_means)\n",
    "#     print(init_pi)\n",
    "    init_mean = np.zeros((num_means, 3))\n",
    "    for m in range(num_means):\n",
    "        rand_row = np.random.randint(0, len(image))\n",
    "        rand_col = np.random.randint(0, len(image[0]))\n",
    "#         print(image[rand_row][rand_col])\n",
    "        init_mean[m] = image[rand_row][rand_col]\n",
    "#     print(init_mean)\n",
    "    for i in range(len(image)):\n",
    "        for j in range(len(image[0])):\n",
    "            pass\n",
    "            \n",
    "em_step(1, img1)"
   ]
  },
  {
   "cell_type": "code",
   "execution_count": 59,
   "metadata": {
    "collapsed": false
   },
   "outputs": [
    {
     "name": "stdout",
     "output_type": "stream",
     "text": [
      "(640, 480, 10)\n"
     ]
    }
   ],
   "source": [
    "# img1\n",
    "info1, info2, info3 = gen_temp_arrays(img1)\n"
   ]
  },
  {
   "cell_type": "code",
   "execution_count": null,
   "metadata": {
    "collapsed": true
   },
   "outputs": [],
   "source": []
  }
 ],
 "metadata": {
  "kernelspec": {
   "display_name": "Python 3",
   "language": "python",
   "name": "python3"
  },
  "language_info": {
   "codemirror_mode": {
    "name": "ipython",
    "version": 3
   },
   "file_extension": ".py",
   "mimetype": "text/x-python",
   "name": "python",
   "nbconvert_exporter": "python",
   "pygments_lexer": "ipython3",
   "version": "3.6.1"
  }
 },
 "nbformat": 4,
 "nbformat_minor": 2
}
