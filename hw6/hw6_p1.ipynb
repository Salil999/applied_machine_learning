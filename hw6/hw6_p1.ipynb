{
 "cells": [
  {
   "cell_type": "markdown",
   "metadata": {
    "deletable": true,
    "editable": true
   },
   "source": [
    "EM Topic models The UCI Machine Learning dataset repository hosts several datasets recording word counts for documents here. You will use the NIPS dataset.\n",
    "Cluster this to 30 topics, using a simple mixture of multinomial topic model, as lectured in class.\n",
    "Produce a graph showing, for each topic, the probability with which the topic is selected.\n",
    "Produce a table showing, for each topic, the 10 words with the highest probability for that topic."
   ]
  },
  {
   "cell_type": "code",
   "execution_count": 2,
   "metadata": {
    "ExecuteTime": {
     "end_time": "2017-04-08T00:35:28.968807Z",
     "start_time": "2017-04-07T19:35:28.963937-05:00"
    },
    "collapsed": false,
    "deletable": true,
    "editable": true
   },
   "outputs": [],
   "source": [
    "import numpy as np\n",
    "import scipy\n",
    "import pandas as pd\n",
    "import sklearn.cluster as sc\n",
    "import matplotlib.pyplot as plt\n",
    "import seaborn"
   ]
  },
  {
   "cell_type": "code",
   "execution_count": 3,
   "metadata": {
    "ExecuteTime": {
     "end_time": "2017-04-08T00:35:33.551620Z",
     "start_time": "2017-04-07T19:35:31.517081-05:00"
    },
    "collapsed": false,
    "deletable": true,
    "editable": true
   },
   "outputs": [
    {
     "name": "stdout",
     "output_type": "stream",
     "text": [
      "finished creating matrix\n"
     ]
    }
   ],
   "source": [
    "D = 1500\n",
    "W = 12419\n",
    "\n",
    "doc_word = np.ones((D, W))\n",
    "\n",
    "# Read doc id and word id's into a matrix\n",
    "doc = open('docword.nips.txt')\n",
    "lines = doc.readlines()\n",
    "for line in lines[3:]:\n",
    "    curr_vals = list(map(int, line.split()))\n",
    "    doc_word[curr_vals[0]-1, curr_vals[1]-1] += curr_vals[2]\n",
    "\n",
    "print(\"finished creating matrix\")"
   ]
  },
  {
   "cell_type": "code",
   "execution_count": 4,
   "metadata": {
    "ExecuteTime": {
     "end_time": "2017-04-08T00:35:34.860253Z",
     "start_time": "2017-04-07T19:35:34.833467-05:00"
    },
    "collapsed": true,
    "deletable": true,
    "editable": true
   },
   "outputs": [],
   "source": [
    "#Read in vocab\n",
    "vocab = []\n",
    "with open('vocab.nips.txt') as f:\n",
    "    for line in f:\n",
    "        vocab.append(line.strip())"
   ]
  },
  {
   "cell_type": "code",
   "execution_count": 5,
   "metadata": {
    "ExecuteTime": {
     "end_time": "2017-04-08T00:35:36.241400Z",
     "start_time": "2017-04-07T19:35:36.224174-05:00"
    },
    "collapsed": false,
    "deletable": true,
    "editable": true
   },
   "outputs": [
    {
     "name": "stdout",
     "output_type": "stream",
     "text": [
      "[[  1.11161545e-04   2.76712931e-06   5.81877271e-05 ...,   8.16616943e-05\n",
      "    6.49354230e-05   6.45306291e-05]\n",
      " [  1.54811430e-04   1.58732391e-04   1.48651970e-04 ...,   4.13710106e-05\n",
      "    1.57264666e-04   1.13319670e-04]\n",
      " [  5.11403140e-05   8.64682319e-05   8.65715610e-05 ...,   4.43504987e-05\n",
      "    8.18301122e-05   3.90076414e-05]\n",
      " ..., \n",
      " [  1.79152476e-05   1.35502082e-05   1.55382849e-04 ...,   8.04836739e-05\n",
      "    8.19681113e-05   1.48861400e-04]\n",
      " [  6.68340625e-05   6.41805804e-05   5.36187879e-06 ...,   6.47600511e-06\n",
      "    1.46339112e-04   9.30023087e-05]\n",
      " [  1.61052482e-04   7.90860177e-05   9.59581857e-05 ...,   2.02041266e-05\n",
      "    4.20132182e-05   5.57841641e-05]]\n",
      "[ 0.03333333  0.03333333  0.03333333  0.03333333  0.03333333  0.03333333\n",
      "  0.03333333  0.03333333  0.03333333  0.03333333  0.03333333  0.03333333\n",
      "  0.03333333  0.03333333  0.03333333  0.03333333  0.03333333  0.03333333\n",
      "  0.03333333  0.03333333  0.03333333  0.03333333  0.03333333  0.03333333\n",
      "  0.03333333  0.03333333  0.03333333  0.03333333  0.03333333  0.03333333]\n"
     ]
    }
   ],
   "source": [
    "# Generate initial pi and p vectors\n",
    "T = 30\n",
    "w = np.zeros((D, T))\n",
    "pi = np.ones(T)/T\n",
    "P = np.random.random_sample((T,W))\n",
    "\n",
    "for i in range(T):\n",
    "    P[i, :] /= np.sum(P[i, :]) # Normalize\n",
    "\n",
    "print(P)\n",
    "print(pi)"
   ]
  },
  {
   "cell_type": "code",
   "execution_count": 6,
   "metadata": {
    "ExecuteTime": {
     "end_time": "2017-04-08T00:35:38.067976Z",
     "start_time": "2017-04-07T19:35:38.059322-05:00"
    },
    "collapsed": false,
    "deletable": true,
    "editable": true
   },
   "outputs": [
    {
     "data": {
      "text/plain": [
       "-136250.19967338574"
      ]
     },
     "execution_count": 6,
     "metadata": {},
     "output_type": "execute_result"
    }
   ],
   "source": [
    "i = 0\n",
    "j = 0\n",
    "top = doc_word[i,:] * np.log(P[j,:])\n",
    "np.sum(top)"
   ]
  },
  {
   "cell_type": "code",
   "execution_count": 7,
   "metadata": {
    "ExecuteTime": {
     "end_time": "2017-04-08T00:35:42.209038Z",
     "start_time": "2017-04-07T19:35:42.184808-05:00"
    },
    "collapsed": false,
    "deletable": true,
    "editable": true
   },
   "outputs": [],
   "source": [
    "def em_step(x, w, p, pi):\n",
    "    # Find the max number\n",
    "    \n",
    "    # For each document\n",
    "    for i in range(D):\n",
    "        temp = np.zeros(T)\n",
    "        # For each topic\n",
    "        for l in range(T):\n",
    "            # Calculate new pi values\n",
    "            temp[l] = np.sum(x[i,:] * np.log(p[l,:])) + np.log(pi[l])        \n",
    "            max_num = np.amax(temp)\n",
    "        bottom = 0\n",
    "        for l in range(T):\n",
    "            # Calculate denominator of w_ij\n",
    "            bottom += np.exp(temp[l] - max_num)\n",
    "        for j in range(T):             \n",
    "            #Calculate numerator of w_ij\n",
    "            top = np.sum(x[i,:] * np.log(p[j,:])) + np.log(pi[j]) - max_num\n",
    "            top = np.exp(top)\n",
    "            w[i,j] = top/bottom\n",
    "            \n",
    "    for j in range(T):\n",
    "        new_p_top = np.zeros(W)\n",
    "        new_p_bot = np.zeros(W)\n",
    "        # For each topic, for each document, recalculate new probabilities based on the previous probabilities\n",
    "        for i in range(D):\n",
    "            new_p_top += x[i] * w[i,j]\n",
    "            new_p_bot += np.dot(x[i], np.ones(W)) * w[i,j]\n",
    "        \n",
    "        p[j,:] = new_p_top/new_p_bot\n",
    "        \n",
    "        sum_pi = 0.0\n",
    "        for i in range(D):\n",
    "            sum_pi += w[i,j]\n",
    "        # New average pi_j\n",
    "        pi[j] = sum_pi/D"
   ]
  },
  {
   "cell_type": "code",
   "execution_count": 8,
   "metadata": {
    "ExecuteTime": {
     "end_time": "2017-04-08T00:40:09.090534Z",
     "start_time": "2017-04-07T19:35:44.877926-05:00"
    },
    "collapsed": false,
    "deletable": true,
    "editable": true
   },
   "outputs": [
    {
     "name": "stdout",
     "output_type": "stream",
     "text": [
      "1 0.0391713211805 0.285883655769\n",
      "2 0.0104702138037 0.0819745344728\n",
      "3 0.00510100351217 0.0414226270135\n",
      "4 0.00350256572042 0.0206628695403\n",
      "5 0.0031012053525 0.0155702880678\n",
      "6 0.00194664733611 0.00880620983708\n",
      "7 0.00279542331061 0.00720766022452\n",
      "8 0.000875699107288 0.00538663716191\n",
      "9 0.000594247199898 0.0031257099271\n",
      "10 0.000480161301586 0.00282513620133\n",
      "11 0.000504947803411 0.00195570247503\n",
      "12 0.000618317085449 0.00201323967002\n",
      "13 0.000708201095302 0.00285481274613\n",
      "14 0.000618247079328 0.00330752884048\n",
      "15 0.000161263684253 0.000806307796759\n",
      "16 0.000110829229332 0.000909574383086\n",
      "17 0.000145247069787 0.000950532602311\n",
      "18 0.000148011957013 0.000942793781705\n",
      "19 3.61231017008e-07 2.24261585493e-06\n"
     ]
    }
   ],
   "source": [
    "count = 0\n",
    "while (1):\n",
    "    count = count + 1\n",
    "    \n",
    "    old_P = np.copy(P)\n",
    "    old_pi = np.copy(pi)\n",
    "    \n",
    "    em_step(doc_word, w, P, pi)\n",
    "    \n",
    "    # Check change in p and pi after EM step\n",
    "    norm_P = np.linalg.norm(P-old_P)\n",
    "    norm_pi = np.linalg.norm(pi-old_pi)\n",
    "    \n",
    "    print(count, norm_P, norm_pi)\n",
    "    # Run EM until an epsilon is reached\n",
    "    if norm_P < 0.0001:\n",
    "        break"
   ]
  },
  {
   "cell_type": "code",
   "execution_count": 21,
   "metadata": {
    "ExecuteTime": {
     "end_time": "2017-04-08T00:12:59.343401Z",
     "start_time": "2017-04-07T19:12:59.009586-05:00"
    },
    "collapsed": false,
    "deletable": true,
    "editable": true
   },
   "outputs": [
    {
     "data": {
      "image/png": "[encoded data removed]",
      "text/plain": [
       "<matplotlib.figure.Figure at 0x117a151d0>"
      ]
     },
     "metadata": {},
     "output_type": "display_data"
    }
   ],
   "source": [
    "bar_width = 1\n",
    "plt.bar(np.arange(pi.shape[0])*bar_width, pi, bar_width)\n",
    "plt.title('Topic vs. Probability')\n",
    "plt.xlabel('Topic Number')\n",
    "plt.ylabel('Probability')\n",
    "plt.show()"
   ]
  },
  {
   "cell_type": "code",
   "execution_count": 17,
   "metadata": {
    "ExecuteTime": {
     "end_time": "2017-04-08T00:12:36.717903Z",
     "start_time": "2017-04-07T19:12:36.696423-05:00"
    },
    "collapsed": false,
    "deletable": true,
    "editable": true
   },
   "outputs": [],
   "source": [
    "top_words = []\n",
    "for t in range(T):\n",
    "    # Sort words in each topic by probability\n",
    "    top_ten = P[t].argsort()[-10:][::-1]\n",
    "    temp_words = []\n",
    "    for i in top_ten:\n",
    "        # Get the top ten words\n",
    "        temp_words.append(vocab[i])\n",
    "    top_words.append(temp_words)\n"
   ]
  },
  {
   "cell_type": "code",
   "execution_count": 18,
   "metadata": {
    "ExecuteTime": {
     "end_time": "2017-04-08T00:12:39.373997Z",
     "start_time": "2017-04-07T19:12:39.368091-05:00"
    },
    "collapsed": false,
    "deletable": true,
    "editable": true
   },
   "outputs": [
    {
     "name": "stdout",
     "output_type": "stream",
     "text": [
      "[['neuron' 'network' 'neural' 'model' 'system' 'input' 'function' 'noise'\n",
      "  'signal' 'spike']\n",
      " ['solution' 'codes' 'tap' 'method' 'message' 'case' 'code' 'system'\n",
      "  'equation' 'result']\n",
      " ['model' 'motion' 'learning' 'filter' 'data' 'system' 'recognition' 'word'\n",
      "  'neural' 'human']\n",
      " ['data' 'model' 'algorithm' 'set' 'point' 'vector' 'distance' 'cluster'\n",
      "  'space' 'clustering']\n",
      " ['unit' 'network' 'pattern' 'training' 'input' 'function' 'learning'\n",
      "  'weight' 'problem' 'number']\n",
      " ['network' 'neural' 'system' 'model' 'input' 'circuit' 'output' 'signal'\n",
      "  'function' 'chip']\n",
      " ['motion' 'direction' 'cell' 'model' 'visual' 'field' 'flow' 'unit'\n",
      "  'response' 'component']\n",
      " ['network' 'set' 'rules' 'rule' 'learning' 'system' 'algorithm' 'neural'\n",
      "  'method' 'function']\n",
      " ['belief' 'function' 'learning' 'problem' 'states' 'network' 'approximate'\n",
      "  'model' 'approximation' 'action']\n",
      " ['model' 'control' 'learning' 'movement' 'network' 'motor' 'system'\n",
      "  'dynamic' 'neural' 'controller']\n",
      " ['motion' 'network' 'visual' 'neuron' 'system' 'unit' 'direction' 'model'\n",
      "  'layer' 'target']\n",
      " ['model' 'data' 'algorithm' 'network' 'distribution' 'function'\n",
      "  'parameter' 'gaussian' 'learning' 'set']\n",
      " ['network' 'learning' 'model' 'input' 'system' 'unit' 'neural' 'training'\n",
      "  'error' 'output']\n",
      " ['star' 'system' 'pattern' 'neural' 'sensor' 'attitude' 'network' 'pair'\n",
      "  'algorithm' 'spacecraft']\n",
      " ['distribution' 'nnbm' 'sampling' 'mean' 'slice' 'learning' 'data' 'field'\n",
      "  'model' 'boltzmann']\n",
      " ['network' 'unit' 'input' 'weight' 'learning' 'output' 'training' 'neural'\n",
      "  'set' 'layer']\n",
      " ['learning' 'function' 'algorithm' 'action' 'policy' 'control' 'system'\n",
      "  'reinforcement' 'problem' 'model']\n",
      " ['model' 'network' 'image' 'object' 'recognition' 'images' 'system'\n",
      "  'input' 'set' 'visual']\n",
      " ['information' 'partition' 'cluster' 'mutual' 'algorithm' 'annealing'\n",
      "  'bottleneck' 'merge' 'procedure' 'hard']\n",
      " ['policy' 'distribution' 'density' 'gradient' 'algorithm' 'stochastic'\n",
      "  'approximate' 'propagation' 'search' 'action']\n",
      " ['cell' 'model' 'neuron' 'input' 'network' 'synaptic' 'pattern' 'cortical'\n",
      "  'activity' 'cortex']\n",
      " ['function' 'network' 'algorithm' 'learning' 'neural' 'weight' 'result'\n",
      "  'input' 'problem' 'number']\n",
      " ['context' 'system' 'network' 'modules' 'input' 'dependent' 'output'\n",
      "  'model' 'training' 'unit']\n",
      " ['network' 'unit' 'performance' 'training' 'set' 'neural' 'hidden'\n",
      "  'committee' 'parsec' 'speech']\n",
      " ['head' 'eye' 'cell' 'model' 'direction' 'vor' 'position' 'velocity'\n",
      "  'network' 'unit']\n",
      " ['function' 'network' 'set' 'data' 'training' 'learning' 'model' 'error'\n",
      "  'algorithm' 'input']\n",
      " ['network' 'unit' 'input' 'training' 'learning' 'set' 'neural' 'weight'\n",
      "  'output' 'hidden']\n",
      " ['network' 'word' 'speech' 'recognition' 'training' 'model' 'system'\n",
      "  'neural' 'set' 'classifier']\n",
      " ['learning' 'model' 'environment' 'blht' 'tree' 'history' 'memory' 'agent'\n",
      "  'algorithm' 'term']\n",
      " ['training' 'network' 'function' 'set' 'entropy' 'noise' 'data' 'learning'\n",
      "  'generalization' 'error']]\n"
     ]
    }
   ],
   "source": [
    "print(np.array(top_words))"
   ]
  },
  {
   "cell_type": "code",
   "execution_count": null,
   "metadata": {
    "collapsed": true,
    "deletable": true,
    "editable": true
   },
   "outputs": [],
   "source": []
  }
 ],
 "metadata": {
  "kernelspec": {
   "display_name": "Python 3",
   "language": "python",
   "name": "python3"
  },
  "language_info": {
   "codemirror_mode": {
    "name": "ipython",
    "version": 3
   },
   "file_extension": ".py",
   "mimetype": "text/x-python",
   "name": "python",
   "nbconvert_exporter": "python",
   "pygments_lexer": "ipython3",
   "version": "3.6.1"
  }
 },
 "nbformat": 4,
 "nbformat_minor": 2
}
