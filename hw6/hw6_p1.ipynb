{
 "cells": [
  {
   "cell_type": "code",
   "execution_count": 14,
   "metadata": {
    "collapsed": true
   },
   "outputs": [],
   "source": [
    "import numpy as np\n",
    "import scipy\n",
    "import pandas as pd"
   ]
  },
  {
   "cell_type": "code",
   "execution_count": 20,
   "metadata": {
    "collapsed": false
   },
   "outputs": [],
   "source": [
    "vocab = pd.read_csv('vocab.nips.txt', header=None)\n",
    "\n",
    "D = 1500\n",
    "W = 12419\n",
    "\n",
    "doc_word = np.zeros((D, W))\n",
    "\n",
    "doc = open('docword.nips.txt')\n",
    "lines = doc.readlines()\n",
    "for line in lines[3:]:\n",
    "    split = line.split(\" \")\n",
    "    docID = int(split[0])\n",
    "    wordID = int(split[1])\n",
    "    count = int(split[2])\n",
    "    doc_word[docID-1][wordID-1] = count"
   ]
  },
  {
   "cell_type": "code",
   "execution_count": null,
   "metadata": {
    "collapsed": true
   },
   "outputs": [],
   "source": []
  }
 ],
 "metadata": {
  "kernelspec": {
   "display_name": "Python 3",
   "language": "python",
   "name": "python3"
  },
  "language_info": {
   "codemirror_mode": {
    "name": "ipython",
    "version": 3
   },
   "file_extension": ".py",
   "mimetype": "text/x-python",
   "name": "python",
   "nbconvert_exporter": "python",
   "pygments_lexer": "ipython3",
   "version": "3.6.1"
  }
 },
 "nbformat": 4,
 "nbformat_minor": 2
}
