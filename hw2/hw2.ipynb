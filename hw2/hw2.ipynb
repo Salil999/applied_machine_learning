{
 "cells": [
  {
   "cell_type": "code",
   "execution_count": 1,
   "metadata": {
    "collapsed": false,
    "deletable": true,
    "editable": true
   },
   "outputs": [],
   "source": [
    "# import libraries\n",
    "import numpy as np\n",
    "import pandas as pd\n",
    "from sklearn.model_selection import train_test_split\n",
    "from sklearn.naive_bayes import GaussianNB\n",
    "from sklearn.model_selection import cross_val_score\n",
    "from sklearn.model_selection import ShuffleSplit\n",
    "\n",
    "# turns off warnings\n",
    "import warnings\n",
    "warnings.filterwarnings('ignore')\n",
    "\n",
    "\n",
    "def check_acc(a, b, test, correct):\n",
    "    correct_ctr = 0\n",
    "    for i in range(len(test)):\n",
    "        row = test.iloc[i]\n",
    "        compare = list(correct)[i]\n",
    "        \n",
    "        result = np.dot(row, a) + b\n",
    "        if((result < 0 and compare < 0) or (result > 0 and compare > 0)):\n",
    "            correct_ctr += 1\n",
    "        \n",
    "    return correct_ctr / len(test)\n",
    "\n",
    "\n",
    "def calc_gradient(a, b, x, y_k, reg):\n",
    "    check = np.dot(a, x) + b\n",
    "    if(y_k * check >= 1):\n",
    "        return (reg*a, 0)\n",
    "    else:\n",
    "        return ((reg*a - (y_k*x)), -1 * y_k)\n",
    "    "
   ]
  },
  {
   "cell_type": "code",
   "execution_count": null,
   "metadata": {
    "collapsed": false,
    "deletable": true,
    "editable": true
   },
   "outputs": [],
   "source": [
    "df = pd.read_csv('20K_K9.csv', dtype=np.float64, header=None)\n",
    "df = df.drop(df.columns[0], axis=1)\n",
    "df.columns = np.arange(0, 5409)\n"
   ]
  },
  {
   "cell_type": "code",
   "execution_count": null,
   "metadata": {
    "collapsed": false,
    "deletable": true,
    "editable": true
   },
   "outputs": [],
   "source": [
    "# Split the data into the X and Y columns.\n",
    "X = df.drop(df.columns[-1], axis=1, inplace=False)\n",
    "y = df.iloc[:,-1]\n"
   ]
  },
  {
   "cell_type": "code",
   "execution_count": null,
   "metadata": {
    "collapsed": true
   },
   "outputs": [],
   "source": [
    "# normalize the data set.\n",
    "cols = list(X.columns)\n",
    "for col in cols:\n",
    "    X_training[col] = (X_training[col] - X_training[col].mean()) / X_training[col].std(ddof=1)\n",
    "    X_test[col] = (X_test[col] - X_test[col].mean()) / X_test[col].std(ddof=1)"
   ]
  },
  {
   "cell_type": "code",
   "execution_count": null,
   "metadata": {
    "collapsed": false,
    "deletable": true,
    "editable": true
   },
   "outputs": [],
   "source": [
    "# split into training and eval\n",
    "X_t, X_gar, y_t, y_gar = train_test_split(X, y, test_size=.1)\n"
   ]
  },
  {
   "cell_type": "code",
   "execution_count": null,
   "metadata": {
    "collapsed": false,
    "deletable": true,
    "editable": true
   },
   "outputs": [],
   "source": [
    "# split remaining into training and test data\n",
    "reg_val = np.array([.001, .01, .1])\n",
    "\n",
    "\n",
    "m = 5\n",
    "n = 2\n",
    "\n",
    "# (a, b, accuracy, lambda)\n",
    "best = None\n",
    "\n",
    "X_training, X_test, y_training, y_test = train_test_split(X_t, y_t, test_size=0.3)\n",
    "\n",
    "\n",
    "#Number of steps will be set to a constant.\n",
    "steps = 50\n"
   ]
  },
  {
   "cell_type": "code",
   "execution_count": null,
   "metadata": {
    "collapsed": false,
    "deletable": true,
    "editable": true
   },
   "outputs": [],
   "source": [
    "for lam in reg_val:\n",
    "    \n",
    "    random_val = int(np.random.random()*X_training[1].count())\n",
    "    a_vec = X_t.iloc[random_value]\n",
    "    b = -1\n",
    "    #100 seasons for each lambda.\n",
    "    for i in range(100):\n",
    "        print(\"This is the 'ith iteration.\")\n",
    "        print(i)\n",
    "        step_size = (m / (i + n))\n",
    "        for j in range(int(steps)):\n",
    "            # creates some random row from our training set. (sampling with replacement.)\n",
    "            rand_val = int(np.random.random()*X_training[1].count())\n",
    "            rand_row = X_training.iloc[rand_val]\n",
    "        \n",
    "            #target_val = y_training[rand_val]\n",
    "            #Get the one value\n",
    "            target_val = list(y_training)[rand_val]\n",
    "\n",
    "            \n",
    "            # grad is a tuple of the adjusted value for a and b\n",
    "            grad = calc_gradient(a_vec, b, rand_row, target_val, lam)\n",
    "            \n",
    "            #Update the gradient values.\n",
    "            a_vec = a_vec - (step_size * grad[0])\n",
    "            b = b - (step_size * grad[1])\n",
    "            \n",
    "            accuracy = check_acc(a_vec, b, X_test, y_test)\n",
    "            print(accuracy)\n",
    "            #Check the curr value.\n",
    "            if (best is None or best[2] < accuracy):\n",
    "                best = (a_vec, b, accuracy, lam)\n",
    "                print(accuracy)    \n",
    "    "
   ]
  },
  {
   "cell_type": "code",
   "execution_count": null,
   "metadata": {
    "collapsed": false,
    "deletable": true,
    "editable": true
   },
   "outputs": [],
   "source": [
    "#Finally calcualte the accuracy on the held out data in the beginning \n",
    "acc = check_acc(best[0], best[1], X_gar, y_gar)\n",
    "print(\"The reported accuracy is: {0}\").format(acc)"
   ]
  },
  {
   "cell_type": "code",
   "execution_count": null,
   "metadata": {
    "collapsed": false,
    "deletable": true,
    "editable": true
   },
   "outputs": [],
   "source": [
    "#Declare an Naive Bayes implementation for comparison\n",
    "\n",
    "gnb = GaussianNB()\n",
    "#Use the ShuffleSplit cross validation module to \n",
    "cv = ShuffleSplit(n_splits=10, test_size=0.1)\n",
    "scores = cross_val_score(gnb, X, y, cv=cv)\n",
    "    \n",
    "#Output the means and std deviations.\n",
    "print(\"The mean of the accuracy is: {0}\".format(np.mean(scores)))\n",
    "print(\"The Standard Deviation of the accuracy is: {0}\".format(np.std(scores)))\n"
   ]
  },
  {
   "cell_type": "code",
   "execution_count": null,
   "metadata": {
    "collapsed": true,
    "deletable": true,
    "editable": true
   },
   "outputs": [],
   "source": []
  }
 ],
 "metadata": {
  "anaconda-cloud": {},
  "kernelspec": {
   "display_name": "Python 3",
   "language": "python",
   "name": "python3"
  },
  "language_info": {
   "codemirror_mode": {
    "name": "ipython",
    "version": 3
   },
   "file_extension": ".py",
   "mimetype": "text/x-python",
   "name": "python",
   "nbconvert_exporter": "python",
   "pygments_lexer": "ipython3",
   "version": "3.5.2"
  }
 },
 "nbformat": 4,
 "nbformat_minor": 1
}
