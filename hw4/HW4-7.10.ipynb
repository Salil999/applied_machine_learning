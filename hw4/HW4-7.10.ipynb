{
 "cells": [
  {
   "cell_type": "code",
   "execution_count": 1,
   "metadata": {
    "collapsed": true
   },
   "outputs": [],
   "source": [
    "import numpy as np\n",
    "from scipy import stats\n",
    "import pandas as pd\n",
    "import matplotlib.pyplot as plt\n",
    "import math\n",
    "from sklearn import linear_model\n",
    "import seaborn as sns\n",
    "import statsmodels.api as sm\n",
    "import statsmodels.formula.api as smf"
   ]
  },
  {
   "cell_type": "code",
   "execution_count": null,
   "metadata": {
    "collapsed": true
   },
   "outputs": [],
   "source": [
    "p_d = pd.read_csv('physical.txt',sep='\\t',header=0)\n",
    "\n",
    "# This line constructs the linear regression. Mass is a function of Fore + Bicep + ...\n",
    "# Result just calculates the coefficents and the Intercept along with \n",
    "# R value among other things.\n",
    "result = smf.ols(formula='Mass ~ Fore + Bicep + Chest + Neck + Shoulder + Waist + Height + Calf + Thigh + Head', data=p_d).fit()\n",
    "\n",
    "\n",
    "print('Parameters: ', result.params.keys())\n",
    "print('Parameters: ', result.params.values)\n",
    "\n",
    "#Vals_zero is just a dictionary that contains the coefficents. I'm constructing the prediction(s).\n",
    "vals_zero = result.params\n",
    "pred = vals_zero['Intercept'] + (p_d['Fore'] * vals_zero['Fore']) +  (p_d['Bicep'] * vals_zero['Bicep']) +  (p_d['Chest'] * vals_zero['Chest']) \\\n",
    "+ (p_d['Neck'] * vals_zero['Neck']) + (p_d['Shoulder'] * vals_zero['Shoulder']) + (p_d['Waist'] * vals_zero['Waist']) + (p_d['Height'] * vals_zero['Height']) \\\n",
    "+ (p_d['Calf'] * vals_zero['Calf']) + (p_d['Thigh'] * vals_zero['Thigh']) + (p_d['Head'] * vals_zero['Head'])\n",
    "\n",
    "# This is the \n",
    "plt.figure()\n",
    "#plt.xscale('linear')\n",
    "#plt.yscale('linear')\n",
    "plt.axhline(y=0, color='r', linestyle='dotted')\n",
    "\n",
    "plt.scatter(pred, p_d['Mass'] - pred) # Residual = Observed (y) - Expected (regression)\n",
    "plt.title('Residuals in Original Coordinates')\n",
    "plt.xlabel('Fitted Value')\n",
    "plt.ylabel('Residual value')\n",
    "plt.show()\n",
    "\n",
    "#ax = sns.regplot('Mass', 'aDelay', local, fit_reg=False, label='Data')\n",
    "\n"
   ]
  },
  {
   "cell_type": "code",
   "execution_count": null,
   "metadata": {
    "collapsed": true
   },
   "outputs": [],
   "source": [
    "#Apply the cube root to the \n",
    "cbr = lambda x : np.power(x, 1/3)\n",
    "mod_df = p_d.copy(deep=True)\n",
    "mod_df['Mass'] = mod_df['Mass'].apply(cbr)\n",
    "\n",
    "result = smf.ols(formula='Mass ~ Fore + Bicep + Chest + Neck + Shoulder + Waist + Height + Calf + Thigh + Head', data=mod_df).fit()\n",
    "\n",
    "\n",
    "print('Parameters: ', result.params.keys())\n",
    "print('Parameters: ', result.params.values)\n",
    "\n",
    "vals = result.params.values\n",
    "pred = vals[0] + mod_df['Fore'] * vals[1] +  mod_df['Bicep'] * vals[2] +  mod_df['Chest'] * vals[3] \\\n",
    "+ mod_df['Neck'] * vals[4] + mod_df['Shoulder'] * vals[5] + mod_df['Waist'] * vals[6] + mod_df['Height'] * vals[7] \\\n",
    "+ mod_df['Calf'] * vals[8] + mod_df['Thigh'] * vals[9] + mod_df['Head'] * vals[10]\n",
    "\n",
    "print(pred)\n",
    "plt.figure()\n",
    "#plt.xscale('linear')\n",
    "#plt.yscale('linear')\n",
    "plt.axhline(y=0, color='r', linestyle='dotted')\n",
    "\n",
    "plt.scatter(pred, mod_df['Mass'] - pred) # Residual = Observed (y) - Expected (regression)\n",
    "plt.title('Residuals in Cube-Root Coordinates')\n",
    "plt.xlabel('Fitted Value')\n",
    "plt.ylabel('Residual value')\n",
    "plt.show()\n",
    "\n"
   ]
  },
  {
   "cell_type": "code",
   "execution_count": null,
   "metadata": {
    "collapsed": true
   },
   "outputs": [],
   "source": [
    "pred = vals[0] + mod_df['Fore'] * vals[1] +  mod_df['Bicep'] * vals[2] +  mod_df['Chest'] * vals[3] \\\n",
    "+ mod_df['Neck'] * vals[4] + mod_df['Shoulder'] * vals[5] + mod_df['Waist'] * vals[6] + mod_df['Height'] * vals[7] \\\n",
    "+ mod_df['Calf'] * vals[8] + mod_df['Thigh'] * vals[9] + mod_df['Head'] * vals[10]\n",
    "\n",
    "pred2 = np.power(pred.values, 3)\n",
    "\n",
    "plt.figure()\n",
    "\n",
    "#plt.xscale('linear')\n",
    "#plt.yscale('linear')\n",
    "plt.axhline(y=0, color='r', linestyle='dotted')\n",
    "\n",
    "plt.scatter(pred2, p_d['Mass'] - pred2) # Residual = Observed (y) - Expected (regression)\n",
    "plt.title('Residuals in Cube-Root Coordinates')\n",
    "plt.xlabel('Fitted Value')\n",
    "plt.ylabel('Residual value')\n",
    "plt.show()\n"
   ]
  },
  {
   "cell_type": "code",
   "execution_count": null,
   "metadata": {
    "collapsed": true
   },
   "outputs": [],
   "source": []
  }
 ],
 "metadata": {
  "anaconda-cloud": {},
  "kernelspec": {
   "display_name": "Python 3",
   "language": "python",
   "name": "python3"
  },
  "language_info": {
   "codemirror_mode": {
    "name": "ipython",
    "version": 3
   },
   "file_extension": ".py",
   "mimetype": "text/x-python",
   "name": "python",
   "nbconvert_exporter": "python",
   "pygments_lexer": "ipython3",
   "version": "3.5.2"
  }
 },
 "nbformat": 4,
 "nbformat_minor": 1
}
