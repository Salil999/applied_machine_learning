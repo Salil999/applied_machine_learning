{
 "cells": [
  {
   "cell_type": "code",
   "execution_count": 2,
   "metadata": {
    "collapsed": false
   },
   "outputs": [
    {
     "ename": "ImportError",
     "evalue": "No module named 'glmnet.elastic_net'",
     "output_type": "error",
     "traceback": [
      "\u001b[0;31m---------------------------------------------------------------------------\u001b[0m",
      "\u001b[0;31mImportError\u001b[0m                               Traceback (most recent call last)",
      "\u001b[0;32m<ipython-input-2-cb2f18b86b32>\u001b[0m in \u001b[0;36m<module>\u001b[0;34m()\u001b[0m\n\u001b[1;32m     11\u001b[0m \u001b[0;32mimport\u001b[0m \u001b[0mstatsmodels\u001b[0m\u001b[0;34m.\u001b[0m\u001b[0mapi\u001b[0m \u001b[0;32mas\u001b[0m \u001b[0msm\u001b[0m\u001b[0;34m\u001b[0m\u001b[0m\n\u001b[1;32m     12\u001b[0m \u001b[0;32mimport\u001b[0m \u001b[0mstatsmodels\u001b[0m\u001b[0;34m.\u001b[0m\u001b[0mformula\u001b[0m\u001b[0;34m.\u001b[0m\u001b[0mapi\u001b[0m \u001b[0;32mas\u001b[0m \u001b[0msmf\u001b[0m\u001b[0;34m\u001b[0m\u001b[0m\n\u001b[0;32m---> 13\u001b[0;31m \u001b[0;32mfrom\u001b[0m \u001b[0mglmnet\u001b[0m \u001b[0;32mimport\u001b[0m \u001b[0mLogitNet\u001b[0m\u001b[0;34m\u001b[0m\u001b[0m\n\u001b[0m",
      "\u001b[0;32m/opt/anaconda/lib/python3.5/site-packages/glmnet/__init__.py\u001b[0m in \u001b[0;36m<module>\u001b[0;34m()\u001b[0m\n\u001b[0;32m----> 1\u001b[0;31m \u001b[0;32mfrom\u001b[0m \u001b[0mglmnet\u001b[0m\u001b[0;34m.\u001b[0m\u001b[0melastic_net\u001b[0m \u001b[0;32mimport\u001b[0m \u001b[0mElasticNet\u001b[0m\u001b[0;34m\u001b[0m\u001b[0m\n\u001b[0m\u001b[1;32m      2\u001b[0m \u001b[0;32mfrom\u001b[0m \u001b[0mglmnet\u001b[0m\u001b[0;34m.\u001b[0m\u001b[0mlogistic_net\u001b[0m \u001b[0;32mimport\u001b[0m \u001b[0mLogisticNet\u001b[0m\u001b[0;34m\u001b[0m\u001b[0m\n\u001b[1;32m      3\u001b[0m \u001b[0;32mfrom\u001b[0m \u001b[0mcv\u001b[0m\u001b[0;34m.\u001b[0m\u001b[0mcv_glmnet\u001b[0m \u001b[0;32mimport\u001b[0m \u001b[0mCVGlmNet\u001b[0m\u001b[0;34m\u001b[0m\u001b[0m\n",
      "\u001b[0;31mImportError\u001b[0m: No module named 'glmnet.elastic_net'"
     ]
    }
   ],
   "source": [
    "import sys\n",
    "sys.path.append('/home/jerry/applied_machine_learning/hw4/glmnet_python-master/lib')\n",
    "sys.path.append('/home/jerry/applied_machine_learning/hw4/glmnet_python-master/test')\n",
    "import numpy as np\n",
    "from scipy import stats\n",
    "import pandas as pd\n",
    "import matplotlib.pyplot as plt\n",
    "import math\n",
    "from sklearn import linear_model\n",
    "import seaborn as sns\n",
    "import statsmodels.api as sm\n",
    "import statsmodels.formula.api as smf\n",
    "from glmnet import LogitNet\n"
   ]
  },
  {
   "cell_type": "code",
   "execution_count": null,
   "metadata": {
    "collapsed": false
   },
   "outputs": [],
   "source": [
    "df = pd.read_csv('abalone.data', \n",
    "                 header=None, \n",
    "                 names=['Sex', 'Length', 'Diameter', 'Height', 'Whole', 'Shucked', 'Viscera', 'Shell', 'Rings'])\n",
    "df['Sex'] = df['Sex'].astype('str')"
   ]
  },
  {
   "cell_type": "markdown",
   "metadata": {},
   "source": [
    "#### 7.11a"
   ]
  },
  {
   "cell_type": "code",
   "execution_count": null,
   "metadata": {
    "collapsed": false
   },
   "outputs": [],
   "source": [
    "result = smf.ols(formula='Rings ~ Length + Diameter + Height + Whole + Shucked + Viscera + Shell', data=df).fit()\n",
    "\n",
    "\n",
    "print('Parameters: ', result.params.keys())\n",
    "print('Parameters: ', result.params.values)\n",
    "\n",
    "vals_zero = result.params\n",
    "pred = vals_zero['Intercept'] + (df['Length'] * vals_zero['Length']) +  (df['Diameter'] * vals_zero['Diameter']) +  (df['Height'] * vals_zero['Height']) \\\n",
    "+ (df['Whole'] * vals_zero['Whole']) + (df['Shucked'] * vals_zero['Shucked']) + (df['Viscera'] * vals_zero['Viscera']) + (df['Shell'] * vals_zero['Shell']) \\\n",
    "\n",
    "\n",
    "plt.figure()\n",
    "#plt.xscale('linear')\n",
    "#plt.yscale('linear')\n",
    "plt.axhline(y=0, color='r', linestyle='dotted')\n",
    "\n",
    "plt.scatter(pred, df['Rings'] - pred) # Residual = Observed (y) - Expected (regression)\n",
    "plt.title('Residuals in Original Coordinates')\n",
    "plt.xlabel('Fitted Value')\n",
    "plt.ylabel('Residual value')\n",
    "plt.show()"
   ]
  },
  {
   "cell_type": "markdown",
   "metadata": {},
   "source": [
    "#### 7.11b"
   ]
  },
  {
   "cell_type": "code",
   "execution_count": null,
   "metadata": {
    "collapsed": false
   },
   "outputs": [],
   "source": [
    "mod_df = df.copy(deep=True)\n",
    "df_sex = pd.get_dummies(df['Sex'])\n",
    "mod_df['Sex'] = df_sex['M']"
   ]
  },
  {
   "cell_type": "code",
   "execution_count": null,
   "metadata": {
    "collapsed": false
   },
   "outputs": [],
   "source": [
    "result2 = smf.ols(formula='Rings ~ Length + Diameter + Height + Whole + Shucked + Viscera + Shell + Sex', data=mod_df).fit()\n",
    "\n",
    "\n",
    "print('Parameters: ', result2.params.keys())\n",
    "print('Parameters: ', result2.params.values)\n",
    "\n",
    "vals_zero = result2.params\n",
    "pred = vals_zero['Intercept'] + (mod_df['Length'] * vals_zero['Length']) +  (mod_df['Diameter'] * vals_zero['Diameter']) +  (mod_df['Height'] * vals_zero['Height']) \\\n",
    "+ (mod_df['Whole'] * vals_zero['Whole']) + (mod_df['Shucked'] * vals_zero['Shucked']) + (mod_df['Viscera'] * vals_zero['Viscera']) + (mod_df['Shell'] * vals_zero['Shell']) \\\n",
    "+ (mod_df['Sex'] * vals_zero['Sex'])\n",
    "\n",
    "\n",
    "plt.figure()\n",
    "#plt.xscale('linear')\n",
    "#plt.yscale('linear')\n",
    "plt.axhline(y=0, color='r', linestyle='dotted')\n",
    "\n",
    "plt.scatter(pred, mod_df['Rings'] - pred) # Residual = Observed (y) - Expected (regression)\n",
    "plt.title('Residuals in Original Coordinates')\n",
    "plt.xlabel('Fitted Value')\n",
    "plt.ylabel('Residual value')\n",
    "plt.show()"
   ]
  },
  {
   "cell_type": "markdown",
   "metadata": {},
   "source": [
    "#### 7.11c"
   ]
  },
  {
   "cell_type": "code",
   "execution_count": null,
   "metadata": {
    "collapsed": false
   },
   "outputs": [],
   "source": [
    "mod_df2 = df.copy(deep=True)\n",
    "del mod_df2['Sex']\n",
    "print(mod_df2)\n",
    "mod_df2['Rings'] = mod_df2['Rings'].apply(np.log)\n",
    "print(mod_df2)"
   ]
  },
  {
   "cell_type": "code",
   "execution_count": null,
   "metadata": {
    "collapsed": false
   },
   "outputs": [],
   "source": [
    "result_one = smf.ols(formula='Rings ~ Length + Diameter + Height + Whole + Shucked + Viscera + Shell', data=mod_df2).fit()\n",
    "\n",
    "\n",
    "print('Parameters: ', result_one.params.keys())\n",
    "print('Parameters: ', result_one.params.values)\n",
    "\n",
    "vals_one = result_one.params\n",
    "pred = vals_one['Intercept'] + (mod_df2['Length'] * vals_one['Length']) +  (mod_df2['Diameter'] * vals_one['Diameter']) +  (mod_df2['Height'] * vals_one['Height']) \\\n",
    "+ (mod_df2['Whole'] * vals_one['Whole']) + (mod_df2['Shucked'] * vals_one['Shucked']) + (mod_df2['Viscera'] * vals_one['Viscera']) + (mod_df2['Shell'] * vals_one['Shell']) \\\n",
    "\n",
    "\n",
    "plt.figure()\n",
    "#plt.xscale('linear')\n",
    "#plt.yscale('linear')\n",
    "plt.axhline(y=0, color='r', linestyle='dotted')\n",
    "\n",
    "plt.scatter(pred, mod_df2['Rings'] - pred) # Residual = Observed (y) - Expected (regression)\n",
    "plt.title('Residuals in Original Coordinates')\n",
    "plt.xlabel('Fitted Value')\n",
    "plt.ylabel('Residual value')\n",
    "plt.show()"
   ]
  },
  {
   "cell_type": "markdown",
   "metadata": {},
   "source": [
    "#### 7.11d"
   ]
  },
  {
   "cell_type": "code",
   "execution_count": null,
   "metadata": {
    "collapsed": true
   },
   "outputs": [],
   "source": [
    "mod_df3 = df.copy(deep=True)\n",
    "df_sex = pd.get_dummies(df['Sex'])\n",
    "mod_df3['Sex'] = df_sex['M']"
   ]
  },
  {
   "cell_type": "code",
   "execution_count": null,
   "metadata": {
    "collapsed": false
   },
   "outputs": [],
   "source": [
    "result_one = smf.ols(formula='Rings ~ Length + Diameter + Height + Whole + Shucked + Viscera + Shell + Sex', data=mod_df3).fit()\n",
    "\n",
    "\n",
    "print('Parameters: ', result_one.params.keys())\n",
    "print('Parameters: ', result_one.params.values)\n",
    "\n",
    "vals_one = result_one.params\n",
    "pred = vals_one['Intercept'] + (mod_df3['Length'] * vals_one['Length']) +  (mod_df3['Diameter'] * vals_one['Diameter']) +  (mod_df3['Height'] * vals_one['Height']) \\\n",
    "+ (mod_df3['Whole'] * vals_one['Whole']) + (mod_df3['Shucked'] * vals_one['Shucked']) + (mod_df3['Viscera'] * vals_one['Viscera']) + (mod_df3['Shell'] * vals_one['Shell']) \\\n",
    "+ (mod_df3['Sex'] * vals_one['Sex'])\n",
    "\n",
    "plt.figure()\n",
    "#plt.xscale('linear')\n",
    "#plt.yscale('linear')\n",
    "plt.axhline(y=0, color='r', linestyle='dotted')\n",
    "\n",
    "plt.scatter(pred, mod_df3['Rings'] - pred) # Residual = Observed (y) - Expected (regression)\n",
    "plt.title('Residuals in Original Coordinates')\n",
    "plt.xlabel('Fitted Value')\n",
    "plt.ylabel('Residual value')\n",
    "plt.show()"
   ]
  },
  {
   "cell_type": "markdown",
   "metadata": {},
   "source": [
    "#### 7.11e"
   ]
  },
  {
   "cell_type": "code",
   "execution_count": null,
   "metadata": {
    "collapsed": true
   },
   "outputs": [],
   "source": []
  },
  {
   "cell_type": "markdown",
   "metadata": {},
   "source": [
    "#### 7.11f"
   ]
  },
  {
   "cell_type": "code",
   "execution_count": null,
   "metadata": {
    "collapsed": false
   },
   "outputs": [],
   "source": [
    "# glmnet\n",
    "X = mod_df.drop(\"Rings\", 1).as_matrix().astype(np.float64)\n",
    "y = mod_df['Rings'].as_matrix().astype(np.float64)\n",
    "\n",
    "print(type(X))\n",
    "\n",
    "cvfit = cvglmnet(x = X, y = y)"
   ]
  },
  {
   "cell_type": "code",
   "execution_count": null,
   "metadata": {
    "collapsed": false
   },
   "outputs": [],
   "source": [
    "\n"
   ]
  },
  {
   "cell_type": "code",
   "execution_count": null,
   "metadata": {
    "collapsed": true
   },
   "outputs": [],
   "source": []
  }
 ],
 "metadata": {
  "anaconda-cloud": {},
  "kernelspec": {
   "display_name": "Python 3",
   "language": "python",
   "name": "python3"
  },
  "language_info": {
   "codemirror_mode": {
    "name": "ipython",
    "version": 3
   },
   "file_extension": ".py",
   "mimetype": "text/x-python",
   "name": "python",
   "nbconvert_exporter": "python",
   "pygments_lexer": "ipython3",
   "version": "3.5.2"
  }
 },
 "nbformat": 4,
 "nbformat_minor": 2
}
