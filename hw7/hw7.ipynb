{
 "cells": [
  {
   "cell_type": "code",
   "execution_count": null,
   "metadata": {
    "ExecuteTime": {
     "end_time": "2017-04-14T15:33:52.741169Z",
     "start_time": "2017-04-14T10:33:52.445031-05:00"
    },
    "collapsed": false,
    "deletable": true,
    "editable": true
   },
   "outputs": [],
   "source": [
    "import numpy as np\n",
    "import argparse\n",
    "import time\n",
    "# The mnist library is from https://gist.github.com/akesling/5358964 and provides functions to \n",
    "# read MNIST into numpy arrays for processing.\n",
    "from mnist import read, show"
   ]
  },
  {
   "cell_type": "code",
   "execution_count": null,
   "metadata": {
    "ExecuteTime": {
     "end_time": "2017-04-14T15:33:53.088831Z",
     "start_time": "2017-04-14T10:33:52.883778-05:00"
    },
    "collapsed": false,
    "deletable": true,
    "editable": true
   },
   "outputs": [],
   "source": [
    "# read array of tuples of arrays\n",
    "training_data_orig = list(read(dataset='training', path='.'))"
   ]
  },
  {
   "cell_type": "code",
   "execution_count": null,
   "metadata": {
    "ExecuteTime": {
     "end_time": "2017-04-14T15:33:53.328578Z",
     "start_time": "2017-04-14T10:33:53.315405-05:00"
    },
    "collapsed": false,
    "deletable": true,
    "editable": true
   },
   "outputs": [],
   "source": [
    "# reads and binarizes 500 images\n",
    "training_data = training_data_orig[:500]\n",
    "labels, imgs = zip(*training_data)\n",
    "training_binarized = (np.array(imgs)/255 > 0.5).astype(int)\n",
    "training_binarized = training_binarized*2 - 1"
   ]
  },
  {
   "cell_type": "code",
   "execution_count": null,
   "metadata": {
    "ExecuteTime": {
     "end_time": "2017-04-14T15:33:53.919242Z",
     "start_time": "2017-04-14T10:33:53.843425-05:00"
    },
    "collapsed": false,
    "deletable": true,
    "editable": true
   },
   "outputs": [],
   "source": [
    "# introduces 2% noise into each binarized image\n",
    "training_noisy = np.copy(training_binarized)\n",
    "# flip 16 values in each image\n",
    "for i in range(len(training_binarized)):\n",
    "    for count in range(16):\n",
    "        row = np.random.randint(0,28)\n",
    "        col = np.random.randint(0,28)\n",
    "        training_noisy[i][row][col] = -1 * training_binarized[i][row][col]"
   ]
  },
  {
   "cell_type": "code",
   "execution_count": null,
   "metadata": {
    "ExecuteTime": {
     "end_time": "2017-04-14T15:33:54.472529Z",
     "start_time": "2017-04-14T10:33:54.455913-05:00"
    },
    "collapsed": false,
    "deletable": true,
    "editable": true
   },
   "outputs": [],
   "source": [
    "theta_hi_xj = 2\n",
    "theta_hi_hj = 0.2\n",
    "def boltzmann(img, c):\n",
    "    res = np.random.rand(28,28)\n",
    "    for a in range(200):\n",
    "        for i in range(len(img)):\n",
    "            for j in range(len(img[0])):\n",
    "\n",
    "                inner = 0\n",
    "                if j > 0:\n",
    "                    inner += c*(2*res[i][j-1] - 1) + theta_hi_xj*img[i][j-1]\n",
    "\n",
    "                if j < len(img[0])-1:\n",
    "                    inner += c*(2*res[i][j+1] - 1) + theta_hi_xj*img[i][j+1]\n",
    "\n",
    "                if i > 0:\n",
    "                    inner += c*(2*res[i-1][j] - 1) + theta_hi_xj*img[i-1][j]\n",
    "\n",
    "                if i < len(img)-1:\n",
    "                    inner += c*(2*res[i+1][j] - 1) + theta_hi_xj*img[i+1][j]\n",
    "#                 print(inner)\n",
    "                res[i][j] = np.exp(inner) / (np.exp(-1*inner) + np.exp(inner))\n",
    "\n",
    "    return res # table of pi probabilities"
   ]
  },
  {
   "cell_type": "code",
   "execution_count": null,
   "metadata": {
    "ExecuteTime": {
     "end_time": "2017-04-14T15:36:23.599310Z",
     "start_time": "2017-04-14T10:36:23.592271-05:00"
    },
    "collapsed": true
   },
   "outputs": [],
   "source": [
    "def boltzmann_parallel(imgs,c):\n",
    "    result = np.empty(np.shape(training_noisy))\n",
    "    for i in range(len(result)):\n",
    "        print(i)\n",
    "        result[i] = boltzmann(imgs[i], c)\n",
    "    return result"
   ]
  },
  {
   "cell_type": "code",
   "execution_count": null,
   "metadata": {
    "ExecuteTime": {
     "end_time": "2017-04-14T02:42:56.228089Z",
     "start_time": "2017-04-13T21:33:01.988690-05:00"
    },
    "collapsed": false,
    "deletable": true,
    "editable": true,
    "scrolled": true
   },
   "outputs": [],
   "source": [
    "\n",
    "training_denoised = np.empty(np.shape(training_noisy))\n",
    "for i in range(len(training_noisy)):\n",
    "    print(i)\n",
    "    temp = boltzmann(training_noisy[i], 0.2)\n",
    "    training_denoised[i] = temp\n",
    "# map(boltzmann, training_noisy, 0.2)"
   ]
  },
  {
   "cell_type": "code",
   "execution_count": null,
   "metadata": {
    "ExecuteTime": {
     "end_time": "2017-04-14T15:37:33.012383Z",
     "start_time": "2017-04-14T10:36:27.966757-05:00"
    },
    "collapsed": false,
    "scrolled": true
   },
   "outputs": [],
   "source": [
    "# denoise all 500 images in parallel\n",
    "from multiprocessing import Process, Pool\n",
    "pool = Pool(7)\n",
    "results_array = pool.starmap(boltzmann_parallel, [(training_binarized, -1),(training_binarized, -0.6),(training_binarized, -0.2),(training_binarized, 0),(training_binarized, 0.2),(training_binarized, 0.6),(training_binarized, 1)])\n",
    "# results array = denoised images with values of c= -1, -0.6, -0.2, 0, 0.2(default), 0.6, 1\n"
   ]
  },
  {
   "cell_type": "code",
   "execution_count": null,
   "metadata": {
    "ExecuteTime": {
     "end_time": "2017-04-14T15:04:25.875056Z",
     "start_time": "2017-04-14T10:04:25.862633-05:00"
    },
    "collapsed": false,
    "deletable": true,
    "editable": true
   },
   "outputs": [],
   "source": [
    "# binarize denoised images\n",
    "training_denoised = results_array[4] # for the default c=0.2 case\n",
    "training_denoised_bin = np.empty(np.shape(training_noisy))\n",
    "for i in range(len(training_denoised)):\n",
    "    for row in range(len(training_denoised[i])):\n",
    "        for col in range(len(training_denoised[i][0])):\n",
    "            if training_denoised[i][row][col] > 0.5:\n",
    "                training_denoised[i][row][col] = 255\n",
    "                training_denoised_bin[i][row][col] = 1\n",
    "            else:\n",
    "                training_denoised[i][row][col] = 0\n",
    "                training_denoised_bin[i][row][col] = -1"
   ]
  },
  {
   "cell_type": "code",
   "execution_count": null,
   "metadata": {
    "ExecuteTime": {
     "end_time": "2017-04-14T02:47:22.174199Z",
     "start_time": "2017-04-13T21:47:21.948108-05:00"
    },
    "collapsed": false,
    "deletable": true,
    "editable": true,
    "scrolled": false
   },
   "outputs": [],
   "source": [
    "# calculates different pixels in all images\n",
    "fraction = np.sum(np.abs(training_denoised_bin - training_binarized)) / (2 * 500 * (28 ** 2))\n",
    "print(1-fraction) # percentage of correct pixels"
   ]
  },
  {
   "cell_type": "code",
   "execution_count": null,
   "metadata": {
    "ExecuteTime": {
     "end_time": "2017-04-14T15:04:14.353733Z",
     "start_time": "2017-04-14T10:04:14.341090-05:00"
    },
    "collapsed": false,
    "deletable": true,
    "editable": true
   },
   "outputs": [],
   "source": [
    "recons = np.abs(training_denoised_bin - training_binarized)\n",
    "zipped = zip(training_denoised_bin, training_binarized, recons)\n",
    "zipped_s = sorted(zipped, key=lambda x: np.count_nonzero(x[2]))"
   ]
  },
  {
   "cell_type": "markdown",
   "metadata": {},
   "source": [
    "#### Most accurate reconstruction"
   ]
  },
  {
   "cell_type": "code",
   "execution_count": null,
   "metadata": {
    "ExecuteTime": {
     "end_time": "2017-04-14T15:04:12.528531Z",
     "start_time": "2017-04-14T10:04:12.512070-05:00"
    },
    "collapsed": false,
    "deletable": true,
    "editable": true
   },
   "outputs": [],
   "source": [
    "show(zipped_s[0][1]) # most accurate training image\n",
    "show(zipped_s[0][0]) # most accurate reconstruction"
   ]
  },
  {
   "cell_type": "markdown",
   "metadata": {},
   "source": [
    "#### Least accurate reconstruction"
   ]
  },
  {
   "cell_type": "code",
   "execution_count": null,
   "metadata": {
    "collapsed": true,
    "deletable": true,
    "editable": true
   },
   "outputs": [],
   "source": [
    "show(zipped_s[-1][1]) # least accurate training image\n",
    "show(zipped_s[-1][0]) # least accurate reconstruction"
   ]
  },
  {
   "cell_type": "markdown",
   "metadata": {},
   "source": [
    "## Receiver Operating Curves"
   ]
  },
  {
   "cell_type": "code",
   "execution_count": null,
   "metadata": {
    "collapsed": true
   },
   "outputs": [],
   "source": []
  }
 ],
 "metadata": {
  "kernelspec": {
   "display_name": "Python 3",
   "language": "python",
   "name": "python3"
  },
  "language_info": {
   "codemirror_mode": {
    "name": "ipython",
    "version": 3
   },
   "file_extension": ".py",
   "mimetype": "text/x-python",
   "name": "python",
   "nbconvert_exporter": "python",
   "pygments_lexer": "ipython3",
   "version": "3.6.1"
  }
 },
 "nbformat": 4,
 "nbformat_minor": 2
}
