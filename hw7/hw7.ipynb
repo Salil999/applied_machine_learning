{
 "cells": [
  {
   "cell_type": "code",
   "execution_count": 1,
   "metadata": {
    "ExecuteTime": {
     "end_time": "2017-04-11T19:12:03.882730Z",
     "start_time": "2017-04-11T14:12:03.219926-05:00"
    },
    "collapsed": false,
    "deletable": true,
    "editable": true
   },
   "outputs": [],
   "source": [
    "from sklearn.neural_network import BernoulliRBM\n",
    "import numpy as np\n",
    "import argparse\n",
    "import time"
   ]
  },
  {
   "cell_type": "code",
   "execution_count": 2,
   "metadata": {
    "ExecuteTime": {
     "end_time": "2017-04-11T19:12:03.910254Z",
     "start_time": "2017-04-11T14:12:03.884684-05:00"
    },
    "collapsed": true,
    "deletable": true,
    "editable": true
   },
   "outputs": [],
   "source": [
    "def load_digits(datasetPath):\n",
    "    # build the dataset and then split it into data\n",
    "    # and labels\n",
    "    X = np.genfromtxt(datasetPath, delimiter = \",\", dtype = \"uint8\")\n",
    "    y = X[:, 0]\n",
    "    X = X[:, 1:]\n",
    "\n",
    "    # return a tuple of the data and targets\n",
    "    return (X, y)\n",
    "\n",
    "def scale(X, eps = 0.001):\n",
    "    # scale the data points s.t the columns of the feature space\n",
    "    # (i.e the predictors) are within the range [0, 1]\n",
    "    return (X - np.min(X, axis = 0)) / (np.max(X, axis = 0) + eps)\n",
    "\n",
    "def nudge(X, y):\n",
    "    # initialize the translations to shift the image one pixel\n",
    "    # up, down, left, and right, then initialize the new data\n",
    "    # matrix and targets\n",
    "    translations = [(0, -1), (0, 1), (-1, 0), (1, 0)]\n",
    "    data = []\n",
    "    target = []\n",
    "\n",
    "    # loop over each of the digits\n",
    "    for (image, label) in zip(X, y):\n",
    "        # reshape the image from a feature vector of 784 raw\n",
    "        # pixel intensities to a 28x28 'image'\n",
    "        image = image.reshape(28, 28)\n",
    "\n",
    "        # loop over the translations\n",
    "        for (tX, tY) in translations:\n",
    "            # translate the image\n",
    "            M = np.float32([[1, 0, tX], [0, 1, tY]])\n",
    "            trans = cv2.warpAffine(image, M, (28, 28))\n",
    "\n",
    "            # update the list of data and target\n",
    "            data.append(trans.flatten())\n",
    "            target.append(label)\n",
    "\n",
    "    # return a tuple of the data matrix and targets\n",
    "    return (np.array(data), np.array(target))"
   ]
  },
  {
   "cell_type": "code",
   "execution_count": 3,
   "metadata": {
    "ExecuteTime": {
     "end_time": "2017-04-11T19:12:04.038575Z",
     "start_time": "2017-04-11T14:12:03.914440-05:00"
    },
    "collapsed": true,
    "deletable": true,
    "editable": true
   },
   "outputs": [],
   "source": [
    "import os\n",
    "import struct\n",
    "import numpy as np\n",
    "\n",
    "\"\"\"\n",
    "Loosely inspired by http://abel.ee.ucla.edu/cvxopt/_downloads/mnist.py\n",
    "which is GPL licensed.\n",
    "\"\"\"\n",
    "\n",
    "def read(dataset = \"training\", path = \".\"):\n",
    "    \"\"\"\n",
    "    Python function for importing the MNIST data set.  It returns an iterator\n",
    "    of 2-tuples with the first element being the label and the second element\n",
    "    being a numpy.uint8 2D array of pixel data for the given image.\n",
    "    \"\"\"\n",
    "\n",
    "    if dataset is \"training\":\n",
    "        fname_img = os.path.join(path, 'train-images-idx3-ubyte')\n",
    "        fname_lbl = os.path.join(path, 'train-labels-idx1-ubyte')\n",
    "        print(fname_img)\n",
    "    elif dataset is \"testing\":\n",
    "        fname_img = os.path.join(path, 't10k-images-idx3-ubyte')\n",
    "        fname_lbl = os.path.join(path, 't10k-labels-idx1-ubyte')\n",
    "    else:\n",
    "        raise ValueError(\"dataset must be 'testing' or 'training'\")\n",
    "\n",
    "    # Load everything in some numpy arrays\n",
    "    with open(fname_lbl, 'rb') as flbl:\n",
    "        magic, num = struct.unpack(\">II\", flbl.read(8))\n",
    "        lbl = np.fromfile(flbl, dtype=np.int8)\n",
    "\n",
    "    with open(fname_img, 'rb') as fimg:\n",
    "        magic, num, rows, cols = struct.unpack(\">IIII\", fimg.read(16))\n",
    "        img = np.fromfile(fimg, dtype=np.uint8).reshape(len(lbl), rows, cols)\n",
    "\n",
    "    get_img = lambda idx: (lbl[idx], img[idx])\n",
    "\n",
    "    # Create an iterator which returns each image in turn\n",
    "    for i in range(len(lbl)):\n",
    "        yield get_img(i)\n",
    "\n",
    "def show(image):\n",
    "    \"\"\"\n",
    "    Render a given numpy.uint8 2D array of pixel data.\n",
    "    \"\"\"\n",
    "    from matplotlib import pyplot\n",
    "    import matplotlib as mpl\n",
    "    fig = pyplot.figure()\n",
    "    ax = fig.add_subplot(1,1,1)\n",
    "    imgplot = ax.imshow(image, cmap=mpl.cm.Greys)\n",
    "    imgplot.set_interpolation('nearest')\n",
    "    ax.xaxis.set_ticks_position('top')\n",
    "    ax.yaxis.set_ticks_position('left')\n",
    "    pyplot.show()"
   ]
  },
  {
   "cell_type": "code",
   "execution_count": 4,
   "metadata": {
    "ExecuteTime": {
     "end_time": "2017-04-11T19:12:04.537718Z",
     "start_time": "2017-04-11T14:12:04.041784-05:00"
    },
    "collapsed": false,
    "deletable": true,
    "editable": true
   },
   "outputs": [
    {
     "name": "stdout",
     "output_type": "stream",
     "text": [
      "./train-images-idx3-ubyte\n",
      "60000\n",
      "5\n",
      "(28, 28)\n"
     ]
    },
    {
     "data": {
      "image/png": "[encoded data removed]",
      "text/plain": [
       "<matplotlib.figure.Figure at 0x10245e828>"
      ]
     },
     "metadata": {},
     "output_type": "display_data"
    }
   ],
   "source": [
    "training_data_orig = list(read(dataset='training', path='.'))\n",
    "print(len(training_data_orig))\n",
    "label, pixels = training_data_orig[0]\n",
    "print(label)\n",
    "print(pixels.shape)\n",
    "show(pixels)"
   ]
  },
  {
   "cell_type": "code",
   "execution_count": 5,
   "metadata": {
    "ExecuteTime": {
     "end_time": "2017-04-11T19:12:04.571042Z",
     "start_time": "2017-04-11T14:12:04.541597-05:00"
    },
    "collapsed": false,
    "deletable": true,
    "editable": true
   },
   "outputs": [],
   "source": [
    "def binarize(pic):\n",
    "    temp = np.zeros(np.shape(pic))\n",
    "    for row in range(len(pic)):\n",
    "        for col in range(len(pic[0])):\n",
    "            if pic[row][col] < (255.0 / 2):\n",
    "                temp[row][col] = -1\n",
    "            else: \n",
    "                temp[row][col] = 1\n",
    "    return temp"
   ]
  },
  {
   "cell_type": "code",
   "execution_count": 6,
   "metadata": {
    "ExecuteTime": {
     "end_time": "2017-04-11T19:12:05.476115Z",
     "start_time": "2017-04-11T14:12:04.621383-05:00"
    },
    "collapsed": false,
    "deletable": true,
    "editable": true
   },
   "outputs": [],
   "source": [
    "training_data = training_data_orig[:500]\n",
    "training_binarized = [(label, pixel) for label, pixel in training_data]\n",
    "for i in range(len(training_data)):\n",
    "    asdf = binarize(training_data[i][1])\n",
    "    training_binarized[i] = (label, asdf)\n",
    "# print(training_binarized)"
   ]
  },
  {
   "cell_type": "code",
   "execution_count": 7,
   "metadata": {
    "ExecuteTime": {
     "end_time": "2017-04-11T19:12:05.578379Z",
     "start_time": "2017-04-11T14:12:05.477962-05:00"
    },
    "collapsed": false,
    "deletable": true,
    "editable": true
   },
   "outputs": [],
   "source": [
    "training_noisy = training_binarized.copy()\n",
    "# flip 16 values in each image\n",
    "for i in range(len(training_binarized)):\n",
    "    for count in range(16):\n",
    "        row = np.random.randint(0,28)\n",
    "        col = np.random.randint(0,28)\n",
    "        training_noisy[i][1][row][col] = -1 * training_binarized[i][1][row][col]"
   ]
  },
  {
   "cell_type": "code",
   "execution_count": null,
   "metadata": {
    "ExecuteTime": {
     "end_time": "2017-04-11T19:42:02.407036Z",
     "start_time": "2017-04-11T14:42:02.181326-05:00"
    },
    "collapsed": false
   },
   "outputs": [],
   "source": [
    "model = BernoulliRBM()\n",
    "model.fit(training_noisy)"
   ]
  },
  {
   "cell_type": "code",
   "execution_count": null,
   "metadata": {
    "collapsed": true
   },
   "outputs": [],
   "source": []
  }
 ],
 "metadata": {
  "kernelspec": {
   "display_name": "Python 3",
   "language": "python",
   "name": "python3"
  },
  "language_info": {
   "codemirror_mode": {
    "name": "ipython",
    "version": 3
   },
   "file_extension": ".py",
   "mimetype": "text/x-python",
   "name": "python",
   "nbconvert_exporter": "python",
   "pygments_lexer": "ipython3",
   "version": "3.6.1"
  }
 },
 "nbformat": 4,
 "nbformat_minor": 2
}
