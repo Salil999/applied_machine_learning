{
 "cells": [
  {
   "cell_type": "code",
   "execution_count": 5,
   "metadata": {
    "ExecuteTime": {
     "end_time": "2017-04-16T17:54:12.713095Z",
     "start_time": "2017-04-16T12:54:12.708685-05:00"
    },
    "collapsed": false,
    "deletable": true,
    "editable": true
   },
   "outputs": [],
   "source": [
    "import numpy as np\n",
    "import argparse\n",
    "import time\n",
    "# The mnist library is from https://gist.github.com/akesling/5358964 and provides functions to \n",
    "# read MNIST into numpy arrays for processing.\n",
    "from mnist import read, show"
   ]
  },
  {
   "cell_type": "code",
   "execution_count": 6,
   "metadata": {
    "ExecuteTime": {
     "end_time": "2017-04-16T17:54:13.818231Z",
     "start_time": "2017-04-16T12:54:13.703530-05:00"
    },
    "collapsed": false,
    "deletable": true,
    "editable": true
   },
   "outputs": [
    {
     "name": "stdout",
     "output_type": "stream",
     "text": [
      "./train-images-idx3-ubyte\n"
     ]
    }
   ],
   "source": [
    "# read array of tuples of arrays\n",
    "training_data_orig = list(read(dataset='training', path='.'))"
   ]
  },
  {
   "cell_type": "code",
   "execution_count": 7,
   "metadata": {
    "ExecuteTime": {
     "end_time": "2017-04-16T17:54:14.501608Z",
     "start_time": "2017-04-16T12:54:14.487721-05:00"
    },
    "collapsed": false,
    "deletable": true,
    "editable": true
   },
   "outputs": [],
   "source": [
    "# reads and binarizes 500 images\n",
    "training_data = training_data_orig[:500]\n",
    "labels, imgs = zip(*training_data)\n",
    "training_binarized = (np.array(imgs)/255 > 0.5).astype(int)\n",
    "training_binarized = training_binarized*2 - 1"
   ]
  },
  {
   "cell_type": "code",
   "execution_count": 8,
   "metadata": {
    "ExecuteTime": {
     "end_time": "2017-04-16T17:54:15.012709Z",
     "start_time": "2017-04-16T12:54:14.930397-05:00"
    },
    "collapsed": false,
    "deletable": true,
    "editable": true
   },
   "outputs": [],
   "source": [
    "# introduces 2% noise into each binarized image\n",
    "training_noisy = np.copy(training_binarized)\n",
    "# flip 16 values in each image\n",
    "for i in range(len(training_binarized)):\n",
    "    for count in range(16):\n",
    "        row = np.random.randint(0,28)\n",
    "        col = np.random.randint(0,28)\n",
    "        training_noisy[i][row][col] = -1 * training_binarized[i][row][col]"
   ]
  },
  {
   "cell_type": "code",
   "execution_count": 9,
   "metadata": {
    "ExecuteTime": {
     "end_time": "2017-04-16T17:54:15.334558Z",
     "start_time": "2017-04-16T12:54:15.319209-05:00"
    },
    "collapsed": false,
    "deletable": true,
    "editable": true
   },
   "outputs": [],
   "source": [
    "theta_hi_xj = 2\n",
    "theta_hi_hj = 0.2\n",
    "def boltzmann(img, c):\n",
    "    res = np.random.rand(28,28) # Random initial values of pi\n",
    "    for a in range(20): # Requires at most 20 iterations based on testing of differences (17 in the worst case)\n",
    "        for i in range(len(img)):\n",
    "            for j in range(len(img[0])):\n",
    "                # Calculates values used in calculation of pi using passed in value of c for weighting of neighbors\n",
    "                inner = 0\n",
    "                if j > 0:\n",
    "                    inner += c*(2*res[i][j-1] - 1) + theta_hi_xj*img[i][j-1]\n",
    "\n",
    "                if j < len(img[0])-1:\n",
    "                    inner += c*(2*res[i][j+1] - 1) + theta_hi_xj*img[i][j+1]\n",
    "\n",
    "                if i > 0:\n",
    "                    inner += c*(2*res[i-1][j] - 1) + theta_hi_xj*img[i-1][j]\n",
    "\n",
    "                if i < len(img)-1:\n",
    "                    inner += c*(2*res[i+1][j] - 1) + theta_hi_xj*img[i+1][j]\n",
    "\n",
    "                res[i][j] = np.exp(inner) / (np.exp(-1*inner) + np.exp(inner))\n",
    "\n",
    "    return res # table of pi probabilities"
   ]
  },
  {
   "cell_type": "code",
   "execution_count": 10,
   "metadata": {
    "ExecuteTime": {
     "end_time": "2017-04-16T17:54:15.679247Z",
     "start_time": "2017-04-16T12:54:15.675126-05:00"
    },
    "collapsed": true,
    "deletable": true,
    "editable": true
   },
   "outputs": [],
   "source": [
    "# Used for the parallel processing of multiple c values at once\n",
    "def boltzmann_parallel(imgs, c):\n",
    "    result = np.empty(np.shape(training_noisy))\n",
    "    for i in range(len(result)):\n",
    "        result[i] = boltzmann(imgs[i], c)\n",
    "    return result"
   ]
  },
  {
   "cell_type": "code",
   "execution_count": 15,
   "metadata": {
    "ExecuteTime": {
     "end_time": "2017-04-16T17:59:45.711435Z",
     "start_time": "2017-04-16T12:55:10.512675-05:00"
    },
    "collapsed": false,
    "deletable": true,
    "editable": true
   },
   "outputs": [],
   "source": [
    "# Denoise all 500 images in parallel\n",
    "from multiprocessing import Process, Pool\n",
    "pool = Pool(7)\n",
    "results_array = pool.starmap(boltzmann_parallel, [(training_binarized, -1),(training_binarized, -0.6),(training_binarized, -0.2),(training_binarized, 0),(training_binarized, 0.2),(training_binarized, 0.6),(training_binarized, 1)])\n",
    "# results array = denoised images with values of c= -1, -0.6, -0.2, 0, 0.2(default), 0.6, 1\n"
   ]
  },
  {
   "cell_type": "code",
   "execution_count": 16,
   "metadata": {
    "ExecuteTime": {
     "end_time": "2017-04-16T18:00:00.013840Z",
     "start_time": "2017-04-16T12:59:54.909988-05:00"
    },
    "collapsed": false,
    "deletable": true,
    "editable": true
   },
   "outputs": [],
   "source": [
    "# Binarize denoised images\n",
    "training_denoised_bin = np.empty(np.shape(training_noisy)) # For the default c = 0.2 case\n",
    "results_bin = np.empty(np.shape(results_array)) # For everything else\n",
    "for n in range(len(results_array)): # For each c value\n",
    "    for i in range(len(results_array[n])): # For each of 500 images\n",
    "        for row in range(len(results_array[n][i])):\n",
    "            for col in range(len(results_array[n][i][0])):\n",
    "                \n",
    "                if results_array[n][i][row][col] > 0.5: # Threshold is 0.5, greater is a black pixel\n",
    "                    training_denoised_bin[i][row][col] = 1\n",
    "                    results_bin[n][i][row][col] = 1\n",
    "                else:\n",
    "                    training_denoised_bin[i][row][col] = -1\n",
    "                    results_bin[n][i][row][col] = -1"
   ]
  },
  {
   "cell_type": "markdown",
   "metadata": {},
   "source": [
    "#### Overall accuracy (fraction of incorrect pixels)"
   ]
  },
  {
   "cell_type": "code",
   "execution_count": 18,
   "metadata": {
    "ExecuteTime": {
     "end_time": "2017-04-16T18:00:21.244722Z",
     "start_time": "2017-04-16T13:00:21.235588-05:00"
    },
    "collapsed": false,
    "deletable": true,
    "editable": true,
    "scrolled": false
   },
   "outputs": [
    {
     "name": "stdout",
     "output_type": "stream",
     "text": [
      "0.016706632653061226\n"
     ]
    }
   ],
   "source": [
    "# Calculates different pixels in all binarized images\n",
    "fraction = np.count_nonzero(training_denoised_bin - training_binarized) / (500 * (28 ** 2))\n",
    "print(fraction)"
   ]
  },
  {
   "cell_type": "code",
   "execution_count": 19,
   "metadata": {
    "ExecuteTime": {
     "end_time": "2017-04-16T18:00:22.678928Z",
     "start_time": "2017-04-16T13:00:22.668181-05:00"
    },
    "collapsed": false,
    "deletable": true,
    "editable": true
   },
   "outputs": [],
   "source": [
    "# Zips images together to be sorted by number of accurate pixels\n",
    "recons = np.abs(training_denoised_bin - training_binarized)\n",
    "zipped = zip(training_denoised_bin, training_binarized, recons, training_noisy)\n",
    "zipped_s = sorted(zipped, key=lambda x: np.count_nonzero(x[2]))"
   ]
  },
  {
   "cell_type": "markdown",
   "metadata": {
    "deletable": true,
    "editable": true
   },
   "source": [
    "#### Most accurate reconstruction"
   ]
  },
  {
   "cell_type": "code",
   "execution_count": 20,
   "metadata": {
    "ExecuteTime": {
     "end_time": "2017-04-16T18:00:25.825938Z",
     "start_time": "2017-04-16T13:00:24.777525-05:00"
    },
    "collapsed": false,
    "deletable": true,
    "editable": true
   },
   "outputs": [
    {
     "data": {
      "image/png": "[encoded data removed]",
      "text/plain": [
       "<matplotlib.figure.Figure at 0x113047588>"
      ]
     },
     "metadata": {},
     "output_type": "display_data"
    },
    {
     "data": {
      "image/png": "[encoded data removed]",
      "text/plain": [
       "<matplotlib.figure.Figure at 0x113047550>"
      ]
     },
     "metadata": {},
     "output_type": "display_data"
    },
    {
     "data": {
      "image/png": "[encoded data removed]",
      "text/plain": [
       "<matplotlib.figure.Figure at 0x10eb15160>"
      ]
     },
     "metadata": {},
     "output_type": "display_data"
    }
   ],
   "source": [
    "show(zipped_s[0][1]) # most accurate training image\n",
    "show(zipped_s[0][3]) # most accurate training image, noisy\n",
    "show(zipped_s[0][0]) # most accurate reconstruction"
   ]
  },
  {
   "cell_type": "markdown",
   "metadata": {
    "deletable": true,
    "editable": true
   },
   "source": [
    "#### Least accurate reconstruction"
   ]
  },
  {
   "cell_type": "code",
   "execution_count": 21,
   "metadata": {
    "ExecuteTime": {
     "end_time": "2017-04-16T18:00:27.889752Z",
     "start_time": "2017-04-16T13:00:27.351896-05:00"
    },
    "collapsed": false,
    "deletable": true,
    "editable": true
   },
   "outputs": [
    {
     "data": {
      "image/png": "[encoded data removed]",
      "text/plain": [
       "<matplotlib.figure.Figure at 0x10ed84dd8>"
      ]
     },
     "metadata": {},
     "output_type": "display_data"
    },
    {
     "data": {
      "image/png": "[encoded data removed]",
      "text/plain": [
       "<matplotlib.figure.Figure at 0x10ed84cf8>"
      ]
     },
     "metadata": {},
     "output_type": "display_data"
    },
    {
     "data": {
      "image/png": "[encoded data removed]",
      "text/plain": [
       "<matplotlib.figure.Figure at 0x10ec0afd0>"
      ]
     },
     "metadata": {},
     "output_type": "display_data"
    }
   ],
   "source": [
    "show(zipped_s[-1][1]) # least accurate training image\n",
    "show(zipped_s[-1][3]) # least accurate training image, noisy\n",
    "show(zipped_s[-1][0]) # least accurate reconstruction"
   ]
  },
  {
   "cell_type": "markdown",
   "metadata": {
    "deletable": true,
    "editable": true
   },
   "source": [
    "## Receiver Operating Curves"
   ]
  },
  {
   "cell_type": "code",
   "execution_count": 22,
   "metadata": {
    "ExecuteTime": {
     "end_time": "2017-04-16T18:00:36.649587Z",
     "start_time": "2017-04-16T13:00:33.871243-05:00"
    },
    "collapsed": false,
    "deletable": true,
    "editable": true
   },
   "outputs": [],
   "source": [
    "roc_tpr = []\n",
    "roc_fpr = []\n",
    "\n",
    "for n in range(len(results_bin)):\n",
    "    numCorrect = 0\n",
    "    numFalse = 0\n",
    "    numTrueBlack = 0\n",
    "    numTrueWhite = 0\n",
    "    for i in range(500):\n",
    "        for j in range(28):\n",
    "            for k in range(28):\n",
    "                if training_binarized[i,j,k] == 1:\n",
    "                    numTrueBlack += 1\n",
    "                    if results_bin[n,i,j,k] == 1:\n",
    "                        numCorrect += 1\n",
    "                else:\n",
    "                    numTrueWhite += 1\n",
    "                    if results_bin[n,i,j,k] == 1:\n",
    "                        numFalse += 1\n",
    "\n",
    "    roc_tpr.append(float(numCorrect) / float(numTrueBlack))\n",
    "    roc_fpr.append(float(numFalse) / float(numTrueWhite))"
   ]
  },
  {
   "cell_type": "code",
   "execution_count": 45,
   "metadata": {
    "ExecuteTime": {
     "end_time": "2017-04-16T18:14:42.995372Z",
     "start_time": "2017-04-16T13:14:41.904138-05:00"
    },
    "collapsed": false,
    "deletable": true,
    "editable": true
   },
   "outputs": [
    {
     "data": {
      "image/png": "[encoded data removed]",
      "text/plain": [
       "<matplotlib.figure.Figure at 0x1103254e0>"
      ]
     },
     "metadata": {},
     "output_type": "display_data"
    }
   ],
   "source": [
    "import matplotlib.pyplot as plt\n",
    "plt.figure(figsize=(16,10), dpi=120)\n",
    "labels = ['c = -1','c = -0.6','c = -0.2','c = 0','c = 0.2','c = 0.6','c = 1']\n",
    "colors = ['b','g','r','c','m','y','k']\n",
    "plt.plot([0,.05],[0,.05], color='blue', linestyle='dotted', label='random')\n",
    "a = []\n",
    "for i,(x,y) in enumerate(zip(roc_fpr, roc_tpr)):\n",
    "    a.append(plt.scatter(x,y,color=colors[i], label=labels[i]))\n",
    "\n",
    "plt.legend()\n",
    "plt.xlabel('false positive rate')\n",
    "plt.ylabel('true positive rate')\n",
    "plt.title('receiver operating curve for varying values of c')\n",
    "plt.show()"
   ]
  },
  {
   "cell_type": "markdown",
   "metadata": {
    "deletable": true,
    "editable": true
   },
   "source": [
    "### Explanation\n",
    "\n",
    "The ROC curve, visualized above, compares the false positive rate to the true positive rate. An ideal ROC curve approaches the top left corner of the chart which represents a perfect true positive rate (100%) and 0% false positive rate. We can see a cluster of c > 0 points at the top left, implying a high true positive and low false positive rate. The c < 0 points are clustered on the right, showing a high relative false positive rate and lower true positive rate (the green dot is behind the red dot). The lone c = 0 point has a low true positive rate but also a low false positive rate.\n",
    "\n",
    "The dotted line is a worst-case scenario: that is, it represents the true and false positive rate of picking between black and white pixels randomly (line y=x). Anything above this line is considered accurate. Note the unequal axes."
   ]
  },
  {
   "cell_type": "code",
   "execution_count": null,
   "metadata": {
    "collapsed": true,
    "deletable": true,
    "editable": true
   },
   "outputs": [],
   "source": []
  }
 ],
 "metadata": {
  "kernelspec": {
   "display_name": "Python 3",
   "language": "python",
   "name": "python3"
  },
  "language_info": {
   "codemirror_mode": {
    "name": "ipython",
    "version": 3
   },
   "file_extension": ".py",
   "mimetype": "text/x-python",
   "name": "python",
   "nbconvert_exporter": "python",
   "pygments_lexer": "ipython3",
   "version": "3.6.1"
  }
 },
 "nbformat": 4,
 "nbformat_minor": 2
}
