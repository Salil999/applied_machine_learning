{
 "cells": [
  {
   "cell_type": "code",
   "execution_count": null,
   "metadata": {
    "ExecuteTime": {
     "end_time": "2017-04-11T19:12:03.882730Z",
     "start_time": "2017-04-11T14:12:03.219926-05:00"
    },
    "collapsed": false,
    "deletable": true,
    "editable": true
   },
   "outputs": [],
   "source": [
    "import numpy as np\n",
    "import argparse\n",
    "import time"
   ]
  },
  {
   "cell_type": "code",
   "execution_count": null,
   "metadata": {
    "ExecuteTime": {
     "end_time": "2017-04-11T19:12:04.038575Z",
     "start_time": "2017-04-11T14:12:03.914440-05:00"
    },
    "collapsed": true,
    "deletable": true,
    "editable": true
   },
   "outputs": [],
   "source": [
    "# This cell is from https://gist.github.com/akesling/5358964 and provides functions to \n",
    "# read MNIST into numpy arrays for processing. I did not write this.\n",
    "import os\n",
    "import struct\n",
    "\n",
    "\"\"\"\n",
    "Loosely inspired by http://abel.ee.ucla.edu/cvxopt/_downloads/mnist.py\n",
    "which is GPL licensed.\n",
    "\"\"\"\n",
    "\n",
    "def read(dataset = \"training\", path = \".\"):\n",
    "    \"\"\"\n",
    "    Python function for importing the MNIST data set.  It returns an iterator\n",
    "    of 2-tuples with the first element being the label and the second element\n",
    "    being a numpy.uint8 2D array of pixel data for the given image.\n",
    "    \"\"\"\n",
    "\n",
    "    if dataset is \"training\":\n",
    "        fname_img = os.path.join(path, 'train-images-idx3-ubyte')\n",
    "        fname_lbl = os.path.join(path, 'train-labels-idx1-ubyte')\n",
    "        print(fname_img)\n",
    "    elif dataset is \"testing\":\n",
    "        fname_img = os.path.join(path, 't10k-images-idx3-ubyte')\n",
    "        fname_lbl = os.path.join(path, 't10k-labels-idx1-ubyte')\n",
    "    else:\n",
    "        raise ValueError(\"dataset must be 'testing' or 'training'\")\n",
    "\n",
    "    # Load everything in some numpy arrays\n",
    "    with open(fname_lbl, 'rb') as flbl:\n",
    "        magic, num = struct.unpack(\">II\", flbl.read(8))\n",
    "        lbl = np.fromfile(flbl, dtype=np.int8)\n",
    "\n",
    "    with open(fname_img, 'rb') as fimg:\n",
    "        magic, num, rows, cols = struct.unpack(\">IIII\", fimg.read(16))\n",
    "        img = np.fromfile(fimg, dtype=np.uint8).reshape(len(lbl), rows, cols)\n",
    "\n",
    "    get_img = lambda idx: (lbl[idx], img[idx])\n",
    "\n",
    "    # Create an iterator which returns each image in turn\n",
    "    for i in range(len(lbl)):\n",
    "        yield get_img(i)\n",
    "\n",
    "def show(image):\n",
    "    \"\"\"\n",
    "    Render a given numpy.uint8 2D array of pixel data.\n",
    "    \"\"\"\n",
    "    from matplotlib import pyplot\n",
    "    import matplotlib as mpl\n",
    "    fig = pyplot.figure()\n",
    "    ax = fig.add_subplot(1,1,1)\n",
    "    imgplot = ax.imshow(image, cmap=mpl.cm.Greys)\n",
    "    imgplot.set_interpolation('nearest')\n",
    "    ax.xaxis.set_ticks_position('top')\n",
    "    ax.yaxis.set_ticks_position('left')\n",
    "    pyplot.show()"
   ]
  },
  {
   "cell_type": "code",
   "execution_count": null,
   "metadata": {
    "ExecuteTime": {
     "end_time": "2017-04-11T23:32:47.598721Z",
     "start_time": "2017-04-11T18:32:47.203482-05:00"
    },
    "collapsed": false,
    "deletable": true,
    "editable": true
   },
   "outputs": [],
   "source": [
    "training_data_orig = list(read(dataset='training', path='.'))\n",
    "print(len(training_data_orig))\n",
    "label, pixels = training_data_orig[420]\n",
    "print(label)\n",
    "print(pixels.shape)\n",
    "show(pixels)"
   ]
  },
  {
   "cell_type": "code",
   "execution_count": null,
   "metadata": {
    "ExecuteTime": {
     "end_time": "2017-04-11T19:12:04.571042Z",
     "start_time": "2017-04-11T14:12:04.541597-05:00"
    },
    "collapsed": false,
    "deletable": true,
    "editable": true
   },
   "outputs": [],
   "source": [
    "def binarize(pic):\n",
    "    temp = np.zeros(np.shape(pic))\n",
    "    for row in range(len(pic)):\n",
    "        for col in range(len(pic[0])):\n",
    "            if pic[row][col] < (255.0 / 2):\n",
    "                temp[row][col] = -1\n",
    "            else: \n",
    "                temp[row][col] = 1\n",
    "    return temp"
   ]
  },
  {
   "cell_type": "code",
   "execution_count": null,
   "metadata": {
    "ExecuteTime": {
     "end_time": "2017-04-11T19:12:05.476115Z",
     "start_time": "2017-04-11T14:12:04.621383-05:00"
    },
    "collapsed": false,
    "deletable": true,
    "editable": true
   },
   "outputs": [],
   "source": [
    "training_data = training_data_orig[:500]\n",
    "training_binarized = [(label, pixel) for label, pixel in training_data]\n",
    "for i in range(len(training_data)):\n",
    "    asdf = binarize(training_data[i][1])\n",
    "    training_binarized[i] = (label, asdf)\n",
    "# print(training_binarized)"
   ]
  },
  {
   "cell_type": "code",
   "execution_count": null,
   "metadata": {
    "ExecuteTime": {
     "end_time": "2017-04-11T19:12:05.578379Z",
     "start_time": "2017-04-11T14:12:05.477962-05:00"
    },
    "collapsed": false,
    "deletable": true,
    "editable": true
   },
   "outputs": [],
   "source": [
    "training_noisy = training_binarized.copy()\n",
    "# flip 16 values in each image\n",
    "for i in range(len(training_binarized)):\n",
    "    for count in range(16):\n",
    "        row = np.random.randint(0,28)\n",
    "        col = np.random.randint(0,28)\n",
    "        training_noisy[i][1][row][col] = -1 * training_binarized[i][1][row][col]"
   ]
  },
  {
   "cell_type": "code",
   "execution_count": null,
   "metadata": {
    "ExecuteTime": {
     "end_time": "2017-04-11T23:14:14.350370Z",
     "start_time": "2017-04-11T18:14:14.330588-05:00"
    },
    "collapsed": false
   },
   "outputs": [],
   "source": [
    "theta_hi_xj = 2\n",
    "theta_hi_hj = 0.2\n",
    "def boltzmann(i):\n",
    "    expected = 1 # Expected value of H_i and X_i given theta\n",
    "    numer = np.exp(-expected)\n",
    "    denom = np.exp()\n",
    "    return numer / denom"
   ]
  },
  {
   "cell_type": "code",
   "execution_count": null,
   "metadata": {
    "collapsed": true
   },
   "outputs": [],
   "source": []
  }
 ],
 "metadata": {
  "kernelspec": {
   "display_name": "Python 3",
   "language": "python",
   "name": "python3"
  },
  "language_info": {
   "codemirror_mode": {
    "name": "ipython",
    "version": 3
   },
   "file_extension": ".py",
   "mimetype": "text/x-python",
   "name": "python",
   "nbconvert_exporter": "python",
   "pygments_lexer": "ipython3",
   "version": "3.6.1"
  }
 },
 "nbformat": 4,
 "nbformat_minor": 2
}
