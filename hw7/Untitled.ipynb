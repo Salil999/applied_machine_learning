{
 "cells": [
  {
   "cell_type": "code",
   "execution_count": 3,
   "metadata": {
    "ExecuteTime": {
     "end_time": "2017-03-29T17:06:54.905854Z",
     "start_time": "2017-03-29T12:06:54.900689-05:00"
    },
    "collapsed": false
   },
   "outputs": [],
   "source": [
    "from sklearn.cross_validation import train_test_split\n",
    "from sklearn.metrics import classification_report\n",
    "from sklearn.linear_model import LogisticRegression\n",
    "from sklearn.neural_network import BernoulliRBM\n",
    "from sklearn.grid_search import GridSearchCV\n",
    "from sklearn.pipeline import Pipeline\n",
    "import numpy as np\n",
    "import argparse\n",
    "import time"
   ]
  },
  {
   "cell_type": "code",
   "execution_count": null,
   "metadata": {
    "collapsed": true
   },
   "outputs": [],
   "source": [
    "def load_digits(datasetPath):\n",
    "    # build the dataset and then split it into data\n",
    "    # and labels\n",
    "    X = np.genfromtxt(datasetPath, delimiter = \",\", dtype = \"uint8\")\n",
    "    y = X[:, 0]\n",
    "    X = X[:, 1:]\n",
    "\n",
    "    # return a tuple of the data and targets\n",
    "    return (X, y)\n",
    "\n",
    "def scale(X, eps = 0.001):\n",
    "    # scale the data points s.t the columns of the feature space\n",
    "    # (i.e the predictors) are within the range [0, 1]\n",
    "    return (X - np.min(X, axis = 0)) / (np.max(X, axis = 0) + eps)\n",
    "\n",
    "def nudge(X, y):\n",
    "    # initialize the translations to shift the image one pixel\n",
    "    # up, down, left, and right, then initialize the new data\n",
    "    # matrix and targets\n",
    "    translations = [(0, -1), (0, 1), (-1, 0), (1, 0)]\n",
    "    data = []\n",
    "    target = []\n",
    "\n",
    "    # loop over each of the digits\n",
    "    for (image, label) in zip(X, y):\n",
    "        # reshape the image from a feature vector of 784 raw\n",
    "        # pixel intensities to a 28x28 'image'\n",
    "        image = image.reshape(28, 28)\n",
    "\n",
    "        # loop over the translations\n",
    "        for (tX, tY) in translations:\n",
    "            # translate the image\n",
    "            M = np.float32([[1, 0, tX], [0, 1, tY]])\n",
    "            trans = cv2.warpAffine(image, M, (28, 28))\n",
    "\n",
    "            # update the list of data and target\n",
    "            data.append(trans.flatten())\n",
    "            target.append(label)\n",
    "\n",
    "    # return a tuple of the data matrix and targets\n",
    "    return (np.array(data), np.array(target))"
   ]
  }
 ],
 "metadata": {
  "kernelspec": {
   "display_name": "Python 3",
   "language": "python",
   "name": "python3"
  },
  "language_info": {
   "codemirror_mode": {
    "name": "ipython",
    "version": 3
   },
   "file_extension": ".py",
   "mimetype": "text/x-python",
   "name": "python",
   "nbconvert_exporter": "python",
   "pygments_lexer": "ipython3",
   "version": "3.6.0"
  }
 },
 "nbformat": 4,
 "nbformat_minor": 2
}
