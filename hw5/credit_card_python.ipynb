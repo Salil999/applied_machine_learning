{
 "cells": [
  {
   "cell_type": "markdown",
   "metadata": {},
   "source": [
    "# Problem 2\n",
    "\n",
    "In this problem we are tasked to use LogisticRegression to predict if a particular user defaults. First we will see the accuraccy when simply using \n",
    "Logistic Regression without any regularization performed, then we will look at its performance when applying various regularization schemes (Lasso, Ridge, and ElasticNet)."
   ]
  },
  {
   "cell_type": "code",
   "execution_count": 1,
   "metadata": {
    "collapsed": false
   },
   "outputs": [],
   "source": [
    "import pandas as pd\n",
    "from sklearn.linear_model import LogisticRegression\n",
    "from sklearn.linear_model import SGDClassifier\n",
    "from sklearn.metrics import accuracy_score\n",
    "from sklearn import preprocessing\n",
    "from sklearn.model_selection import cross_val_score\n",
    "import statsmodels.api as sm\n",
    "import numpy as np"
   ]
  },
  {
   "cell_type": "code",
   "execution_count": 2,
   "metadata": {
    "collapsed": false
   },
   "outputs": [],
   "source": [
    "# Load in the dataset.\n",
    "df = pd.read_excel(\"default of credit card clients.xls\")\n",
    "\n",
    "# Drop the first row from the dataset.\n",
    "df.drop(df.index[[0]], inplace=True)\n",
    "\n",
    "# Get the X and y values.\n",
    "X = df.drop('Y', axis=1)\n",
    "y = list(df['Y'].values)"
   ]
  },
  {
   "cell_type": "code",
   "execution_count": 3,
   "metadata": {
    "collapsed": false
   },
   "outputs": [
    {
     "data": {
      "text/plain": [
       "0.77873333333333339"
      ]
     },
     "execution_count": 3,
     "metadata": {},
     "output_type": "execute_result"
    }
   ],
   "source": [
    "# Perform logistic regression with a large enough C value s.t it doesn't perform regularization.\n",
    "model = LogisticRegression(C=1e25)\n",
    "\n",
    "model.fit(X, y)\n",
    "\n",
    "y_pred = model.predict(X)\n",
    "accuracy_score(y, y_pred)"
   ]
  },
  {
   "cell_type": "code",
   "execution_count": 4,
   "metadata": {
    "collapsed": false
   },
   "outputs": [
    {
     "data": {
      "text/plain": [
       "0.81106666666666671"
      ]
     },
     "execution_count": 4,
     "metadata": {},
     "output_type": "execute_result"
    }
   ],
   "source": [
    "# Now perform logistic regression with L1 regularization and see the results.\n",
    "model2 = LogisticRegression(penalty='l1')\n",
    "\n",
    "model2.fit(X, y)\n",
    "\n",
    "y_pred2 = model2.predict(X)\n",
    "accuracy_score(y, y_pred2)"
   ]
  },
  {
   "cell_type": "code",
   "execution_count": 5,
   "metadata": {
    "collapsed": false
   },
   "outputs": [
    {
     "data": {
      "text/plain": [
       "0.77873333333333339"
      ]
     },
     "execution_count": 5,
     "metadata": {},
     "output_type": "execute_result"
    }
   ],
   "source": [
    "# Now perform logistic regression with L2 regularization and see the results.\n",
    "model3 = LogisticRegression(penalty='l2')\n",
    "\n",
    "model3.fit(X, y)\n",
    "\n",
    "y_pred3 = model3.predict(X)\n",
    "accuracy_score(y, y_pred3)"
   ]
  },
  {
   "cell_type": "code",
   "execution_count": 6,
   "metadata": {
    "collapsed": false
   },
   "outputs": [
    {
     "data": {
      "text/plain": [
       "0.7782"
      ]
     },
     "execution_count": 6,
     "metadata": {},
     "output_type": "execute_result"
    }
   ],
   "source": [
    "# Now perform logistic regression with ElasticNet and see the results.\n",
    "model4 = SGDClassifier(loss=\"log\", penalty=\"elasticnet\")\n",
    "\n",
    "model4.fit(X, y)\n",
    "\n",
    "y_pred4 = model4.predict(X)\n",
    "accuracy_score(y, y_pred4)"
   ]
  },
  {
   "cell_type": "markdown",
   "metadata": {
    "collapsed": true
   },
   "source": [
    "# Results\n",
    "\n",
    "After trying out various regularization techniques and looking at its performance it seems that while there is a small performance increase when performing L1 regression, with other regularization techniques the difference is negligible."
   ]
  },
  {
   "cell_type": "code",
   "execution_count": null,
   "metadata": {
    "collapsed": true
   },
   "outputs": [],
   "source": []
  }
 ],
 "metadata": {
  "anaconda-cloud": {},
  "kernelspec": {
   "display_name": "Python 3",
   "language": "python",
   "name": "python3"
  },
  "language_info": {
   "codemirror_mode": {
    "name": "ipython",
    "version": 3
   },
   "file_extension": ".py",
   "mimetype": "text/x-python",
   "name": "python",
   "nbconvert_exporter": "python",
   "pygments_lexer": "ipython3",
   "version": "3.6.0"
  }
 },
 "nbformat": 4,
 "nbformat_minor": 2
}
