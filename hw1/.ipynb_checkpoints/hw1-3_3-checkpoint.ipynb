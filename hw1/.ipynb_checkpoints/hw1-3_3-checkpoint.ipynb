{
 "cells": [
  {
   "cell_type": "code",
   "execution_count": 12,
   "metadata": {
    "collapsed": true
   },
   "outputs": [],
   "source": [
    "import numpy as np\n",
    "import pandas as pd\n",
    "from sklearn.model_selection import train_test_split\n",
    "from sklearn.model_selection import cross_val_score\n",
    "from sklearn.model_selection import ShuffleSplit\n",
    "from sklearn.naive_bayes import GaussianNB"
   ]
  },
  {
   "cell_type": "code",
   "execution_count": 28,
   "metadata": {
    "collapsed": false
   },
   "outputs": [
    {
     "name": "stdout",
     "output_type": "stream",
     "text": [
      "The mean of the accuracy is: 0.5244444444444445\n",
      "The Standard Deviation of the accuracy is: 0.0446661138716484\n"
     ]
    }
   ],
   "source": [
    "def problem3_3(simplify_classes=False, n_folds=10):\n",
    "    #Read in the dataset into a Pandas dataframe and drop items with missing values.\n",
    "    df = pd.read_csv('processed-cleveland.data')\n",
    "    df = df.replace(['?'], [np.nan]).dropna()\n",
    "    #Get the labels (last column) and set any value that is > 0 to class 1.\n",
    "    labels = df.iloc[:, -1]\n",
    "    \n",
    "    #Replace values greater than zero to be one iff simplify_classes parameter is true.\n",
    "    if(simplify_classes):\n",
    "        labels[labels >0] = 1\n",
    "\n",
    "    labels = labels.values\n",
    "    #The features Dataframe will be all the columns except the last one.\n",
    "    #Set the values where the dataset marked with '?' with NaN.\n",
    "    #Then, drop the values.\n",
    "    features = df.drop(df.columns[-1], axis=1, inplace=False).values\n",
    "    #Declare a Naive Bayes classifier assuming a normal Distribution.\n",
    "    gnb = GaussianNB()\n",
    "    #Use the ShuffleSplit cross validation module to \n",
    "    cv = ShuffleSplit(n_splits=n_folds, test_size=0.15)\n",
    "    scores = cross_val_score(gnb, features, labels, cv=cv)\n",
    "    \n",
    "    #Output the means and std deviations.\n",
    "    print(\"The mean of the accuracy is: {0}\".format(np.mean(scores)))\n",
    "    print(\"The Standard Deviation of the accuracy is: {0}\".format(np.std(scores)))\n",
    "\n",
    "problem3_3()"
   ]
  },
  {
   "cell_type": "code",
   "execution_count": 27,
   "metadata": {
    "collapsed": false
   },
   "outputs": [
    {
     "name": "stdout",
     "output_type": "stream",
     "text": [
      "The mean of the accuracy is: 0.5177777777777777\n",
      "The Standard Deviation of the accuracy is: 0.041035967361376435\n",
      "None\n"
     ]
    }
   ],
   "source": []
  }
 ],
 "metadata": {
  "anaconda-cloud": {},
  "kernelspec": {
   "display_name": "Python [default]",
   "language": "python",
   "name": "python3"
  },
  "language_info": {
   "codemirror_mode": {
    "name": "ipython",
    "version": 3
   },
   "file_extension": ".py",
   "mimetype": "text/x-python",
   "name": "python",
   "nbconvert_exporter": "python",
   "pygments_lexer": "ipython3",
   "version": "3.5.2"
  }
 },
 "nbformat": 4,
 "nbformat_minor": 1
}
