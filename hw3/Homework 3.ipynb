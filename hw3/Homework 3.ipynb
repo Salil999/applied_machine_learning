{
 "cells": [
  {
   "cell_type": "code",
   "execution_count": 1,
   "metadata": {
    "collapsed": false
   },
   "outputs": [],
   "source": [
    "%matplotlib inline"
   ]
  },
  {
   "cell_type": "code",
   "execution_count": 2,
   "metadata": {
    "collapsed": false
   },
   "outputs": [],
   "source": [
    "import matplotlib.pyplot as plt\n",
    "import matplotlib.image as mpimg\n",
    "import numpy as np\n",
    "import _pickle as cPickle\n",
    "from PIL import Image\n",
    "from sklearn.decomposition import PCA"
   ]
  },
  {
   "cell_type": "code",
   "execution_count": 3,
   "metadata": {
    "collapsed": true
   },
   "outputs": [],
   "source": [
    "def unpickle(file):\n",
    "    fo = open(file, 'rb')\n",
    "    dict = cPickle.load(fo, encoding='latin-1')\n",
    "    fo.close()\n",
    "    return dict"
   ]
  },
  {
   "cell_type": "code",
   "execution_count": 4,
   "metadata": {
    "collapsed": true
   },
   "outputs": [],
   "source": [
    "def display_image(sample_image):\n",
    "    output = list()\n",
    "    ratio = int(len(sample_image) / 3)\n",
    "\n",
    "    red = sample_image[0:ratio]\n",
    "    green = sample_image[ratio: 2*ratio]\n",
    "    blue = sample_image[2*ratio:]\n",
    "\n",
    "    for i in range(len(red)):\n",
    "        val = list([red[i], green[i], blue[i]])\n",
    "        output.append(val)\n",
    "\n",
    "    output = np.array(output).reshape((32,32,3))\n",
    "    print(output.shape)\n",
    "\n",
    "\n",
    "    imgplot = plt.imshow(output)\n"
   ]
  },
  {
   "cell_type": "code",
   "execution_count": 5,
   "metadata": {
    "collapsed": false
   },
   "outputs": [],
   "source": [
    "#Read the data into python\n",
    "batches = list()\n",
    "column_names = unpickle(\"/home/jerry/CS498/cifar-10-batches-py/batches.meta\")\n",
    "batches.append(unpickle(\"/home/jerry/CS498/cifar-10-batches-py/data_batch_1\"))\n",
    "batches.append(unpickle(\"/home/jerry/CS498/cifar-10-batches-py/data_batch_2\"))\n",
    "batches.append(unpickle(\"/home/jerry/CS498/cifar-10-batches-py/data_batch_3\"))\n",
    "batches.append(unpickle(\"/home/jerry/CS498/cifar-10-batches-py/data_batch_4\"))\n",
    "batches.append(unpickle(\"/home/jerry/CS498/cifar-10-batches-py/data_batch_5\"))\n",
    "batches.append(unpickle(\"/home/jerry/CS498/cifar-10-batches-py/test_batch\"))\n",
    "\n"
   ]
  },
  {
   "cell_type": "code",
   "execution_count": 6,
   "metadata": {
    "collapsed": false
   },
   "outputs": [],
   "source": [
    "#Combine the different batches into one dataset.\n",
    "label_names = column_names['label_names']\n",
    "merged_data = dict()\n",
    "for data_batch in batches:\n",
    "    raw_data  = data_batch['data']\n",
    "    labels = data_batch['labels']\n",
    "    for i in range(len(raw_data)):\n",
    "        label = label_names[labels[i]]\n",
    "        if (label not in merged_data):\n",
    "            merged_data[label] = list()\n",
    "        merged_data[label].append(raw_data[i])\n",
    "\n"
   ]
  },
  {
   "cell_type": "code",
   "execution_count": 7,
   "metadata": {
    "collapsed": false
   },
   "outputs": [
    {
     "name": "stdout",
     "output_type": "stream",
     "text": [
      "dict_keys(['frog', 'horse', 'airplane', 'bird', 'deer', 'truck', 'cat', 'automobile', 'ship', 'dog'])\n",
      "(6000, 3072)\n"
     ]
    }
   ],
   "source": [
    "print(merged_data.keys())\n",
    "c = np.array(merged_data['bird'])\n",
    "print(c.shape)"
   ]
  },
  {
   "cell_type": "code",
   "execution_count": 59,
   "metadata": {
    "collapsed": false
   },
   "outputs": [],
   "source": [
    "#Problem 4.10 Part A\n",
    "errors_dict = dict()\n",
    "var_err_dict = dict()\n",
    "mean_image_dict = dict()\n",
    "for key in merged_data:\n",
    "    #Fit the data to the PCA and get the values.\n",
    "    item = np.array(merged_data[key], dtype=np.uint8)\n",
    "    val = np.mean(item, axis=0, dtype=int)\n",
    "    mean_image_dict[key] = val\n",
    "    pca_data = item.T\n",
    "    pca = PCA(n_components = 20)\n",
    "    PCs = pca.fit_transform(pca_data)\n",
    "    cat_rest = pca.inverse_transform(PCs).T\n",
    "    \n",
    "    #Compute the errors.\n",
    "    error = np.mean((item-cat_rest)**2)\n",
    "    var_err = 1 - sum(pca.explained_variance_ratio_)\n",
    "    errors_dict[key] = error\n",
    "    var_err_dict[key] = var_err\n",
    "\n",
    "    \n",
    "    \n",
    "    \n",
    "\n",
    "    "
   ]
  },
  {
   "cell_type": "code",
   "execution_count": 61,
   "metadata": {
    "collapsed": false
   },
   "outputs": [
    {
     "name": "stdout",
     "output_type": "stream",
     "text": [
      "{'frog': 838.12834768381106, 'horse': 1096.930913828963, 'cat': 993.00475102476378, 'bird': 778.20390476513421, 'deer': 695.20070896240929, 'truck': 1281.2900630232139, 'airplane': 834.10936355450497, 'automobile': 1261.4996138852703, 'ship': 775.95338642435354, 'dog': 1026.8594704044783}\n",
      "{'frog': 0.34266752787045796, 'horse': 0.32703012306189783, 'cat': 0.30658756150522315, 'bird': 0.32982336733232254, 'deer': 0.3121050130523555, 'truck': 0.30767095144411671, 'airplane': 0.28648962088926644, 'automobile': 0.33373688131073698, 'ship': 0.24175517054579132, 'dog': 0.31570326454203668}\n"
     ]
    }
   ],
   "source": [
    "print(errors_dict)\n",
    "print(var_err_dict)"
   ]
  },
  {
   "cell_type": "code",
   "execution_count": 73,
   "metadata": {
    "collapsed": false
   },
   "outputs": [
    {
     "data": {
      "image/png": "[encoded data removed]",
      "text/plain": [
       "<matplotlib.figure.Figure at 0x7f2a8f437198>"
      ]
     },
     "metadata": {},
     "output_type": "display_data"
    }
   ],
   "source": [
    "#Plot the values\n",
    "import seaborn as sns\n",
    "plt.bar(range(len(var_err_dict)), var_err_dict.values())\n",
    "plt.xticks(range(len(var_err_dict)), var_err_dict.keys())\n",
    "plt.xlabel(\"Class\")\n",
    "plt.ylabel(\"Proportion of Variance not explained by the selected components.\")\n",
    "plt.title(\"Error for Classes\")\n",
    "\n",
    "plt.show()\n"
   ]
  },
  {
   "cell_type": "code",
   "execution_count": null,
   "metadata": {
    "collapsed": true
   },
   "outputs": [],
   "source": []
  }
 ],
 "metadata": {
  "anaconda-cloud": {},
  "kernelspec": {
   "display_name": "Python 3",
   "language": "python",
   "name": "python3"
  },
  "language_info": {
   "codemirror_mode": {
    "name": "ipython",
    "version": 3
   },
   "file_extension": ".py",
   "mimetype": "text/x-python",
   "name": "python",
   "nbconvert_exporter": "python",
   "pygments_lexer": "ipython3",
   "version": "3.5.2"
  }
 },
 "nbformat": 4,
 "nbformat_minor": 1
}
